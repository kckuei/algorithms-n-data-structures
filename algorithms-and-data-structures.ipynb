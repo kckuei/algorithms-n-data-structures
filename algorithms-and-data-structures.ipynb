{
 "cells": [
  {
   "cell_type": "markdown",
   "id": "e573d7cc-f953-4e00-9c1f-c56332689266",
   "metadata": {},
   "source": [
    "# Algorithms\n",
    "___\n",
    "\n",
    "Reference:\n",
    "* https://www.cs.cmu.edu/~rdriley/121/notes/sorting.html"
   ]
  },
  {
   "cell_type": "code",
   "execution_count": 97,
   "id": "014bfed2-6711-4d3d-b467-8a767cee3282",
   "metadata": {},
   "outputs": [
    {
     "name": "stdout",
     "output_type": "stream",
     "text": [
      "[10, 13, 15, 18, 24, 28, 32, 33, 39, 45, 45, 53, 58, 64, 70, 73, 75, 77, 78, 83] 64\n"
     ]
    }
   ],
   "source": [
    "# Generate random list of sorted integers\n",
    "\n",
    "import random\n",
    "\n",
    "random.seed = 1234\n",
    "arr = sorted([random.randint(0,100) for _ in range(20)])\n",
    "num = arr[13]\n",
    "print(arr, num)"
   ]
  },
  {
   "cell_type": "markdown",
   "id": "7f354bd6-096f-44c4-aca7-253f2b71e11f",
   "metadata": {},
   "source": [
    "## Search Algorithms\n",
    "___"
   ]
  },
  {
   "cell_type": "markdown",
   "id": "2f80e3d8-6477-4f21-a129-3a421df026be",
   "metadata": {},
   "source": [
    "### Linear Search\n",
    "\n",
    "* Most basic implementation: start at the first or last number, and scan through the entire array until the value is found\n",
    "* The array can be unsorted\n",
    "* $O(N)$ complexity\n",
    "\n",
    "**Sample C++ implementation**\n",
    "```\n",
    "public static int linearSearch(int[] a, int value) {\n",
    "    int n = a.length;\n",
    "    for (int i = 0; i < n; i++) {\n",
    "        if (a[i] == value)\n",
    "            return i;\n",
    "    }\n",
    "    return -1;\n",
    "}\n",
    "```\n",
    "\n",
    "<img src=\"assets/dalg/linear-search.png\" alt=\"linear\" width=\"600\"/>"
   ]
  },
  {
   "cell_type": "code",
   "execution_count": 98,
   "id": "e6591d1c-258a-4ec2-bdbd-7b2e321826d0",
   "metadata": {},
   "outputs": [],
   "source": [
    "def linear_search(arr, num):\n",
    "    for i in range(len(arr)):\n",
    "        if arr[i] == num: return i\n",
    "    return -1"
   ]
  },
  {
   "cell_type": "code",
   "execution_count": 105,
   "id": "4f6e8604-a1fb-4def-bbfb-62e4f19c7e4a",
   "metadata": {},
   "outputs": [
    {
     "data": {
      "text/plain": [
       "13"
      ]
     },
     "execution_count": 105,
     "metadata": {},
     "output_type": "execute_result"
    }
   ],
   "source": [
    "linear_search(arr, num)"
   ]
  },
  {
   "cell_type": "markdown",
   "id": "208e1d30-f712-445d-a3e8-982698acb989",
   "metadata": {},
   "source": [
    "### Binary Search\n",
    "\n",
    "\n",
    "* The array **must be sorted**\n",
    "* How it works: \n",
    "    * It uses a divide and conquery approach!\n",
    "    * Start at the middle of the array\n",
    "    * Ask: Is `num` smaller or larger than the middle element? \n",
    "        * If `num` is smaller, then do the algorithm again on the left half of the array\n",
    "        * If `num` is larger, then do the algorithm again on the right half of the array\n",
    "        * If `num` if it is equal to the middle, we've found our value\n",
    "* $O(log_2(N))$ complexity\n",
    "\n",
    "\n",
    "**Sample C++ implementation**\n",
    "```\n",
    "public static int binarySearch(int[] a, int value) {\n",
    "    int lowIndex = 0;\n",
    "    int highIndex = a.length - 1;\n",
    "    while (lowIndex <= highIndex) {\n",
    "        int midIndex = (lowIndex + highIndex) / 2;\n",
    "        if (value < a[midIndex])\n",
    "            highIndex = midIndex - 1;\n",
    "        else if (value > a[midIndex])\n",
    "            lowIndex = midIndex + 1;\n",
    "        else // found it!\n",
    "            return midIndex;\n",
    "    }\n",
    "    return -1; // The value doesn't exist\n",
    "}\n",
    "```\n",
    "\n",
    "<img src=\"assets/dalg/binary-search.png\" alt=\"binary\" width=\"400\"/>"
   ]
  },
  {
   "cell_type": "code",
   "execution_count": 157,
   "id": "4b2b67c5-3734-4eaa-965c-b0fabfa8d09c",
   "metadata": {},
   "outputs": [],
   "source": [
    "def binary_search(arr, num, verbose=False):\n",
    "    low = 0\n",
    "    high = len(arr) - 1\n",
    " \n",
    "    while low <= high:\n",
    " \n",
    "        mid = (high + low) // 2\n",
    "        if verbose: print(mid)\n",
    " \n",
    "        # If x is greater, ignore left half\n",
    "        if arr[mid] < num: low = mid + 1\n",
    " \n",
    "        # If x is smaller, ignore right half\n",
    "        elif arr[mid] > num: high = mid - 1\n",
    " \n",
    "        # means x is present at mid\n",
    "        else: return mid\n",
    " \n",
    "    # If we reach here, then the element was not present\n",
    "    return -1"
   ]
  },
  {
   "cell_type": "code",
   "execution_count": 158,
   "id": "da4021b0-6403-4d0b-983b-06edcf45c235",
   "metadata": {},
   "outputs": [
    {
     "data": {
      "text/plain": [
       "13"
      ]
     },
     "execution_count": 158,
     "metadata": {},
     "output_type": "execute_result"
    }
   ],
   "source": [
    "binary_search(arr, num)"
   ]
  },
  {
   "cell_type": "code",
   "execution_count": 160,
   "id": "f2472438-b37f-49f5-acca-22b5a6acd7da",
   "metadata": {},
   "outputs": [
    {
     "name": "stdout",
     "output_type": "stream",
     "text": [
      "5\n",
      "8\n",
      "6\n",
      "7\n"
     ]
    },
    {
     "data": {
      "text/plain": [
       "7"
      ]
     },
     "execution_count": 160,
     "metadata": {},
     "output_type": "execute_result"
    }
   ],
   "source": [
    "# print the midpoint indices from binary search of each step for the example in the image\n",
    "binary_search([1, 2, 4, 5, 8, 9, 11, 22, 23, 28, 32], 22, verbose=True)"
   ]
  },
  {
   "cell_type": "code",
   "execution_count": 144,
   "id": "53bba93b-6744-416f-a5b3-3beb711b6bc5",
   "metadata": {},
   "outputs": [],
   "source": [
    "# recursive implementation\n",
    "def binary_search_r(arr, num, low=None, high=None):\n",
    "    if low is None: low = 0\n",
    "    if high is None: high = len(arr) - 1\n",
    " \n",
    "    # Check base case\n",
    "    if high >= low:\n",
    " \n",
    "        mid = (high + low) // 2\n",
    " \n",
    "        # If element is present at the middle itself\n",
    "        if arr[mid] == num: return mid\n",
    " \n",
    "        # If element is smaller than mid, then it can only\n",
    "        # be present in left subarray\n",
    "        elif arr[mid] > num: return binary_search_r(arr, num, low, mid - 1)\n",
    " \n",
    "        # Else the element can only be present in right subarray\n",
    "        else: return binary_search_r(arr, num, mid + 1, high)\n",
    " \n",
    "    else:\n",
    "        # Element is not present in the array\n",
    "        return -1"
   ]
  },
  {
   "cell_type": "code",
   "execution_count": 145,
   "id": "e6d1e1d4-f771-4365-827b-e1286157a729",
   "metadata": {},
   "outputs": [
    {
     "data": {
      "text/plain": [
       "13"
      ]
     },
     "execution_count": 145,
     "metadata": {},
     "output_type": "execute_result"
    }
   ],
   "source": [
    "binary_search_r(arr, num)"
   ]
  },
  {
   "cell_type": "code",
   "execution_count": 146,
   "id": "ce8f275e-ba4c-4864-a5d2-4a1af2538bc8",
   "metadata": {},
   "outputs": [],
   "source": [
    "# Another implementation using bisect library\n",
    "# bisect_left(arr, num) returns the insertion point for num in arr to maintain a sorted order\n",
    "\n",
    "from bisect import bisect_left\n",
    "\n",
    "def binary_search_b(arr, num):\n",
    "    i = bisect_left(arr, num)\n",
    "    if i != len(arr) and arr[i] == num: return i\n",
    "    else: return -1"
   ]
  },
  {
   "cell_type": "code",
   "execution_count": 147,
   "id": "6648c7be-bd99-4d4f-a880-15ddeb6305db",
   "metadata": {},
   "outputs": [
    {
     "data": {
      "text/plain": [
       "13"
      ]
     },
     "execution_count": 147,
     "metadata": {},
     "output_type": "execute_result"
    }
   ],
   "source": [
    "binary_search_b(arr, num)"
   ]
  },
  {
   "cell_type": "markdown",
   "id": "0e223128-6429-465c-ac26-496c2230b117",
   "metadata": {},
   "source": [
    "## Sorting Algorithms\n",
    "___"
   ]
  },
  {
   "cell_type": "markdown",
   "id": "7a1967a3-2367-4859-b9d8-c68fb0c80495",
   "metadata": {},
   "source": [
    "<img src=\"assets/dalg/sort-summary.png\" alt=\"summary\" width=\"1000\"/>"
   ]
  },
  {
   "cell_type": "markdown",
   "id": "3d06512d-7b46-4a84-90b7-33b0a842a2ff",
   "metadata": {
    "tags": []
   },
   "source": [
    "## Bubble Sort\n",
    "\n",
    "Bubble sort is an easy algorithm based on going through the array and swapping pairs of numbers. The algorithm works as follows:\n",
    "\n",
    "**Algorithm** \n",
    "* Starting with the first element, compare it to the second element. If they are out of order, swap them.\n",
    "* Compare the 2nd and 3rd element in the same way. Then the 3rd and 4th, etc. (So, go through the array once doing pair-wise swaps.)\n",
    "* Repeat this N times, where N is the number of elements in the array.\n",
    "\n",
    "**Implementation Notes** \n",
    "\n",
    "There are a few observations you can make that can speed this up a bit:\n",
    "* After the first pass, the largest element is at the end. After the second pass, the second largest element is second to the end, etc. (This means each pass you make doesn’t actually need to go through the entire array, later passes can stop earlier.)\n",
    "* If you make a pass and don’t perform any swaps, then the array is sorted.\n",
    "\n",
    "**Sample `C++` implementation**\n",
    "```\n",
    "public void bubbleSort(int[] a) {\n",
    "    int n = a.length;\n",
    "    boolean didSwap = true;\n",
    "    \n",
    "    // Keep going until we didn't do any swaps during a pass\n",
    "    while (didSwap) {\n",
    "        didSwap = false;\n",
    "        // Make a pass, swapping pairs if needed.\n",
    "        for (int i = 0; i < n - 1; i++) {\n",
    "            if (a[i] < a[i + 1]) {\n",
    "                didSwap = true;\n",
    "                swap(a, i, i + 1);\n",
    "            }\n",
    "        }\n",
    "        // The previous loop puts the largest value at the end,\n",
    "        // so we don't need to check that one again.\n",
    "        n--;\n",
    "    }\n",
    "}\n",
    "```\n",
    "\n",
    "**Efficiency**\n",
    "\n",
    "In the worst case (even doing the optimizations mentioned above) the first pass does (N-1) compares and swaps. The second pass does (N-2) compares and swaps, etc. This happens N times. This makes the efficiency $O(N^2)$\n",
    "\n",
    "<img src=\"assets/dalg/bubble-sort.png\" alt=\"bubble\" width=\"500\"/>"
   ]
  },
  {
   "cell_type": "code",
   "execution_count": 217,
   "id": "b2df34bf-5168-43f9-a006-edabcbb8d3ab",
   "metadata": {},
   "outputs": [],
   "source": [
    "# Flip the inequality to sort in the reverse direction\n",
    "\n",
    "def swap(arr, loc1, loc2, verbose=False):\n",
    "    if verbose: print(f\"swap {arr[loc1]}@{loc1} for {arr[loc2]}@{loc2}\")\n",
    "    temp = arr[loc1]\n",
    "    arr[loc1] = arr[loc2]\n",
    "    arr[loc2] = temp\n",
    "    return arr\n",
    "    \n",
    "def bubble_sort(arr, verbose=False):\n",
    "    n = len(arr)\n",
    "    did_swap = True\n",
    "    \n",
    "    # Keep going until we didn't do any swaps during a pass\n",
    "    while did_swap:\n",
    "        if verbose: print(f\"\\nPass{len(arr) - n}\")\n",
    "        did_swap = False\n",
    "        # Make a pass, swapping pairs if needed\n",
    "        for i in range(0, n - 1):\n",
    "            if arr[i] > arr[i+1]:\n",
    "                did_swap = True\n",
    "                swap(arr, i, i+1, verbose=verbose)\n",
    "        n -= 1\n",
    "    return arr"
   ]
  },
  {
   "cell_type": "code",
   "execution_count": 219,
   "id": "6b653c00-cf21-4778-a297-c8c3a53f6e44",
   "metadata": {
    "tags": []
   },
   "outputs": [
    {
     "name": "stdout",
     "output_type": "stream",
     "text": [
      "\n",
      "Pass0\n",
      "swap 7@0 for 6@1\n",
      "swap 7@1 for 4@2\n",
      "swap 7@2 for 3@3\n",
      "\n",
      "Pass1\n",
      "swap 6@0 for 4@1\n",
      "swap 6@1 for 3@2\n",
      "\n",
      "Pass2\n",
      "swap 4@0 for 3@1\n",
      "\n",
      "Pass3\n"
     ]
    },
    {
     "data": {
      "text/plain": [
       "[3, 4, 6, 7]"
      ]
     },
     "execution_count": 219,
     "metadata": {},
     "output_type": "execute_result"
    }
   ],
   "source": [
    "# Explicitly print the passes and swaps for the example in the image\n",
    "bubble_sort([7, 6, 4, 3], verbose=True)"
   ]
  },
  {
   "cell_type": "code",
   "execution_count": 224,
   "id": "4d6d85fd-1d5a-4b65-9132-26119e0432e1",
   "metadata": {},
   "outputs": [
    {
     "name": "stdout",
     "output_type": "stream",
     "text": [
      "[69, 30, 49, 10, 24, 61, 48, 20, 36, 66, 57, 92, 41, 5, 62, 25, 42, 37, 5, 17]\n"
     ]
    }
   ],
   "source": [
    "# Generate random list of sorted integers\n",
    "random.seed = 1234\n",
    "arr = [random.randint(0,100) for _ in range(20)]\n",
    "print(arr)"
   ]
  },
  {
   "cell_type": "code",
   "execution_count": 225,
   "id": "d7d33062-9a4e-4643-8f27-25925850316d",
   "metadata": {},
   "outputs": [
    {
     "name": "stdout",
     "output_type": "stream",
     "text": [
      "[5, 5, 10, 17, 20, 24, 25, 30, 36, 37, 41, 42, 48, 49, 57, 61, 62, 66, 69, 92]\n"
     ]
    }
   ],
   "source": [
    "print( bubble_sort(arr) )"
   ]
  },
  {
   "cell_type": "markdown",
   "id": "89ae61e3-6e57-41c3-88ba-74a13e6d1844",
   "metadata": {},
   "source": [
    "## Insertion Sort\n",
    "\n",
    "Insertion sort is the type of sorting most people do if you give them a set of 7 playing cards, out of order, and ask them to sort them in their hand.\n",
    "\n",
    "**Algorithm**\n",
    "\n",
    "* In each iteration, $i$, take the element in the $i^{th}$ position, compare it to the one before until you find the place where it belongs. (In other words, while it is less than the one behind it, keep moving it backwards.)\n",
    "\n",
    "\n",
    "**Sample C++ Implementation**\n",
    "```\n",
    "public static void insertionSort(int[] a) {\n",
    "    int n = a.length;\n",
    "    for (int i = 0; i < n; i++) {\n",
    "        int index = i;\n",
    "        int valueToInsert = a[index];\n",
    "        while (index > 0 && valueToInsert < a[index - 1]) {\n",
    "            a[index] = a[index - 1];\n",
    "            index--;\n",
    "        }\n",
    "        a[index] = valueToInsert;\n",
    "    }\n",
    "}\n",
    "```\n",
    "\n",
    "**Efficiency**\n",
    "\n",
    "The overall algorithm “inserts” all N items individually, and each insertion takes N compares in the worst case. This makes the efficiency $O(N^2)$. However, in practice, it is typically faster than bubble sort despite having the same big-o efficiency.\n",
    "\n",
    "<img src=\"assets/dalg/insertion-sort.png\" alt=\"insertion-sort\" size=\"400\"/>"
   ]
  },
  {
   "cell_type": "code",
   "execution_count": 260,
   "id": "589a9770-498c-4ede-9117-1879058c2297",
   "metadata": {},
   "outputs": [],
   "source": [
    "def insertion_sort(arr, verbose=False):\n",
    "    n = len(arr)\n",
    "    for i in range(n):\n",
    "        if verbose: print(f\"pass {i}\")\n",
    "        # initialize insertion point at ith value\n",
    "        index = i\n",
    "        # get the insertion value at ith value\n",
    "        value_to_insert = arr[i]\n",
    "        if verbose: print(f\"value to insert: {value_to_insert}\")\n",
    "        # compare ith value with preceding, keep moving the insertion pointer/index to the \n",
    "        # left until we encounter a smaller value, all the while sliding elements forward\n",
    "        # note: the index > 0 ensures we don't try inserting past the first index, and skips \n",
    "        # the first pass when index=0 (i.e., assumes we start with sorted list of length 1)\n",
    "        while (index > 0 and value_to_insert < arr[index - 1]):\n",
    "            arr[index] = arr[index - 1]\n",
    "            index -= 1\n",
    "            if verbose: print('->',arr)\n",
    "        # perform the insertion\n",
    "        arr[index] = value_to_insert\n",
    "        if verbose: print(arr)\n",
    "    return arr"
   ]
  },
  {
   "cell_type": "code",
   "execution_count": 261,
   "id": "cf509c7f-6740-4c69-9610-32dfb088d099",
   "metadata": {},
   "outputs": [
    {
     "name": "stdout",
     "output_type": "stream",
     "text": [
      "[14, 88, 52, 71, 36, 77, 13, 7, 80, 45, 84, 96, 43, 78, 6, 98, 6, 99, 69, 23]\n"
     ]
    }
   ],
   "source": [
    "# Generate random list of sorted integers\n",
    "random.seed = 1234\n",
    "arr = [random.randint(0,100) for _ in range(20)]\n",
    "print(arr)"
   ]
  },
  {
   "cell_type": "code",
   "execution_count": 262,
   "id": "05090274-04e9-4c13-9cd3-8f058f80e50b",
   "metadata": {},
   "outputs": [
    {
     "name": "stdout",
     "output_type": "stream",
     "text": [
      "[6, 6, 7, 13, 14, 23, 36, 43, 45, 52, 69, 71, 77, 78, 80, 84, 88, 96, 98, 99]\n"
     ]
    }
   ],
   "source": [
    "print( insertion_sort(arr) )"
   ]
  },
  {
   "cell_type": "code",
   "execution_count": 263,
   "id": "9cbd78a4-0d79-410d-bcbd-afa739c6fc35",
   "metadata": {},
   "outputs": [
    {
     "name": "stdout",
     "output_type": "stream",
     "text": [
      "pass 0\n",
      "value to insert: 85\n",
      "[85, 12, 59, 45, 72, 51]\n",
      "pass 1\n",
      "value to insert: 12\n",
      "-> [85, 85, 59, 45, 72, 51]\n",
      "[12, 85, 59, 45, 72, 51]\n",
      "pass 2\n",
      "value to insert: 59\n",
      "-> [12, 85, 85, 45, 72, 51]\n",
      "[12, 59, 85, 45, 72, 51]\n",
      "pass 3\n",
      "value to insert: 45\n",
      "-> [12, 59, 85, 85, 72, 51]\n",
      "-> [12, 59, 59, 85, 72, 51]\n",
      "[12, 45, 59, 85, 72, 51]\n",
      "pass 4\n",
      "value to insert: 72\n",
      "-> [12, 45, 59, 85, 85, 51]\n",
      "[12, 45, 59, 72, 85, 51]\n",
      "pass 5\n",
      "value to insert: 51\n",
      "-> [12, 45, 59, 72, 85, 85]\n",
      "-> [12, 45, 59, 72, 72, 85]\n",
      "-> [12, 45, 59, 59, 72, 85]\n",
      "[12, 45, 51, 59, 72, 85]\n",
      "[12, 45, 51, 59, 72, 85]\n"
     ]
    }
   ],
   "source": [
    "print( insertion_sort([85, 12, 59, 45, 72, 51], verbose=True) )"
   ]
  },
  {
   "cell_type": "markdown",
   "id": "ed8734d8-7aa3-4540-97c7-93e2f18dac6d",
   "metadata": {},
   "source": [
    "## Selection Sort\n",
    "\n",
    "Selection sort if based on the idea of “selecting” the elements in sorted order. You search the array for the smallest element and move it to the front. Then, you find the next smallest element, and put it next. Etc.\n",
    "\n",
    "**Algorithm**\n",
    "\n",
    "* In each iteration, $i$, selection the $i^{th}$ smallest element and store it in the ith position. After completing N iterations, the array is sorted.\n",
    "\n",
    "**Sample C++ Implementation**\n",
    "```\n",
    "public static void selectionSort(int[] a) {\n",
    "    int n = a.length;\n",
    "    for (int i = 0; i < n - 1; i++) {\n",
    "        int indexOfSmallest = i;\n",
    "        for (int j = i + 1; j < n; j++)\n",
    "            if (a[j] < a[indexOfSmallest])\n",
    "                indexOfSmallest = j;\n",
    "        swap(a, i, indexOfSmallest);\n",
    "    }\n",
    "}\n",
    "```\n",
    "\n",
    "**Efficiency**\n",
    "\n",
    "There are N iterations of the algorithm, and each iteration needs to find the smallest element. Finding the smallest element is \n",
    "$O(N)$, and doing an $O(N)$ operating N times results in an effiency of $O(N^2)$.\n",
    "\n",
    "<img src=\"assets/dalg/selection-short.png\" alt=\"select-sort\" size=\"500\"/>"
   ]
  },
  {
   "cell_type": "code",
   "execution_count": 267,
   "id": "219541ed-9431-409b-a7a0-99c78bd5fe74",
   "metadata": {},
   "outputs": [],
   "source": [
    "def swap(arr, loc1, loc2, verbose=False):\n",
    "    if verbose: print(f\"swap {arr[loc1]}@{loc1} for {arr[loc2]}@{loc2}\")\n",
    "    temp = arr[loc1]\n",
    "    arr[loc1] = arr[loc2]\n",
    "    arr[loc2] = temp\n",
    "    return arr\n",
    "\n",
    "def select_sort(arr):\n",
    "    n = len(arr)\n",
    "    for i in range(n):\n",
    "        index_of_smallest = i\n",
    "        for j in range(i + 1, n):\n",
    "            if arr[j] < arr[index_of_smallest]:\n",
    "                index_of_smallest = j\n",
    "        swap(arr, i, index_of_smallest)\n",
    "    return arr"
   ]
  },
  {
   "cell_type": "code",
   "execution_count": 265,
   "id": "0faa2e67-e7d0-45c9-903f-98d11259e094",
   "metadata": {},
   "outputs": [
    {
     "name": "stdout",
     "output_type": "stream",
     "text": [
      "[68, 84, 44, 6, 49, 6, 73, 54, 8, 91, 59, 98, 40, 61, 0, 11, 40, 94, 38, 70]\n"
     ]
    }
   ],
   "source": [
    "# Generate random list of sorted integers\n",
    "random.seed = 1234\n",
    "arr = [random.randint(0,100) for _ in range(20)]\n",
    "print(arr)"
   ]
  },
  {
   "cell_type": "code",
   "execution_count": 268,
   "id": "306bf063-be3a-4c7d-9fa6-527aa3f53a7a",
   "metadata": {},
   "outputs": [
    {
     "data": {
      "text/plain": [
       "[0, 6, 6, 8, 11, 38, 40, 40, 44, 49, 54, 59, 61, 68, 70, 73, 84, 91, 94, 98]"
      ]
     },
     "execution_count": 268,
     "metadata": {},
     "output_type": "execute_result"
    }
   ],
   "source": [
    "select_sort(arr)"
   ]
  },
  {
   "cell_type": "markdown",
   "id": "6b075921-705c-41d5-92b0-52b32b60bb32",
   "metadata": {},
   "source": [
    "## Merge Sort\n",
    "\n",
    "Merge sort is a recursive algorithm that involves splitting and merging the array.\n",
    "\n",
    "**Algorithm**\n",
    "\n",
    "The algorithm works as follows:\n",
    "* Divide the array in half.\n",
    "* Recursively sort both halves.\n",
    "* Merge the halves back together.\n",
    "\n",
    "**Sample C++ Implementation**\n",
    "```\n",
    "public static void mergeSort(int[] a) {\n",
    "    if (a.length > 1) {\n",
    "        int mid = a.length / 2; // first index of right half\n",
    "        int[] left = new int[mid];\n",
    "        for (int i = 0; i < left.length; i++) // create left subarray\n",
    "            left[i] = a[i];\n",
    "        int[] right = new int[a.length - mid];\n",
    "        for (int i = 0; i < right.length; i++) // create right subarray\n",
    "            right[i] = a[mid + i];\n",
    "        mergeSort(left); // recursively sort the left half\n",
    "        mergeSort(right); // recursively sort the right half\n",
    "        merge(left, right, a); // merge the left and right parts back into a whole\n",
    "    }\n",
    "}\n",
    "\n",
    "public static void merge(int[] left, int[] right, int[] arr) {\n",
    "    int leftIndex = 0;\n",
    "    int rightIndex = 0;\n",
    "    for (int i = 0; i < arr.length; i++) {\n",
    "        if (rightIndex == right.length || (leftIndex < left.length && left[leftIndex] < right[rightIndex])) {\n",
    "            arr[i] = left[leftIndex];\n",
    "            leftIndex++;\n",
    "        } else {\n",
    "            arr[i] = right[rightIndex];\n",
    "            rightIndex++;\n",
    "        }\n",
    "    }\n",
    "}\n",
    "```\n",
    "\n",
    "**Efficiency**\n",
    "\n",
    "The process of merging two sorted lists together is $O(N)$. Merge sort, effectively, does this $O(log_2(N))$ times. (Because it splits the list in half at every step.) So, that makes the overall efficiency $O(Nlog_2(N))$.\n",
    "\n",
    "<img src=\"assets/dalg/merge-sort.png\" alt=\"merge-sort\" width=\"500\"/>\n",
    "\n",
    "Another [reference](https://www.geeksforgeeks.org/merge-sort/)"
   ]
  },
  {
   "cell_type": "code",
   "execution_count": 288,
   "id": "7ecc41f0-0985-4a72-8e09-48bc37e8b032",
   "metadata": {},
   "outputs": [],
   "source": [
    "def merge_sort(arr):\n",
    "    \n",
    "    if len(arr) > 1:\n",
    "        \n",
    "        mid = len(arr) // 2  # first index of right half\n",
    "        \n",
    "        left = arr[:mid]     # create left subarray\n",
    "        right = arr[mid:]    # create right subarray\n",
    "        \n",
    "        merge_sort(left)         # recursively sort the left half\n",
    "        merge_sort(right)        # recursively sort the right half\n",
    "        merge(left, right, arr)  # merge the left and right parts back into a whole    \n",
    "\n",
    "    return arr\n",
    "\n",
    "def merge(left, right, arr):\n",
    "    \n",
    "    leftIndex = 0\n",
    "    rightIndex = 0\n",
    "    \n",
    "    for i in range(len(arr)):\n",
    "        \n",
    "        if (rightIndex == len(right) or (leftIndex < len(left) and left[leftIndex] < right[rightIndex])): \n",
    "            arr[i] = left[leftIndex]\n",
    "            leftIndex += 1\n",
    "        else:\n",
    "            arr[i] = right[rightIndex]\n",
    "            rightIndex += 1"
   ]
  },
  {
   "cell_type": "code",
   "execution_count": 289,
   "id": "383f0fb4-bed3-406d-b7aa-056d39fc9560",
   "metadata": {},
   "outputs": [
    {
     "name": "stdout",
     "output_type": "stream",
     "text": [
      "[72, 51, 6, 82, 0, 64, 16, 0, 40, 19, 18, 59, 73, 62, 99, 14, 96, 66, 83, 0]\n"
     ]
    }
   ],
   "source": [
    "# Generate random list of sorted integers\n",
    "random.seed = 1234\n",
    "arr = [random.randint(0,100) for _ in range(20)]\n",
    "print(arr)"
   ]
  },
  {
   "cell_type": "code",
   "execution_count": 290,
   "id": "8bf479ff-6bd6-4e39-b370-54239c905431",
   "metadata": {},
   "outputs": [
    {
     "data": {
      "text/plain": [
       "[0, 0, 0, 6, 14, 16, 18, 19, 40, 51, 59, 62, 64, 66, 72, 73, 82, 83, 96, 99]"
      ]
     },
     "execution_count": 290,
     "metadata": {},
     "output_type": "execute_result"
    }
   ],
   "source": [
    "merge_sort(arr)"
   ]
  },
  {
   "cell_type": "markdown",
   "id": "23f8e429-62ea-40d0-adb4-9bcdb24b0914",
   "metadata": {
    "tags": []
   },
   "source": [
    "## Quick Sort\n",
    "\n",
    "Quick sort is an interesting algorithm because while its worst case is technically $O(N^2)$, in practice it is almost always $O(Nlog_2(N))$.\n",
    "\n",
    "Quick sort is a recursive algorithm based around the idea of choosing a pivot item and sorting around it. Quick sort is also a recursive algorithim. \n",
    "\n",
    "**Algorithm**\n",
    "\n",
    "* “Randomly” choose an element from the array as your pivot. There are many different versions of quickSort that pick pivot in different ways. \n",
    "    * Always pick the first element as a pivot\n",
    "    * Always pick the last element as a pivot\n",
    "    * Pick a random element as a pivot\n",
    "    * Pick median as a pivot\n",
    "* Partition the array around your pivot, making sure that items less than the pivot are to the left of it and all items greater than or equal to the  pivot are to the right of it.\n",
    "* Recursively sort both parts.\n",
    "\n",
    "* The key process in quick sort is partition(). The aim of partitions is, given an array and an element `x` of array as a pivot, put `x` at its correct position in a sorted array and put all smaller elements (smaller than `x`) before `x`, and put all greater elements (greater than `x`) after `x`. \n",
    "\n",
    "**Sample C++ Implementation** (picking first value as pivot)\n",
    "```\n",
    "public static void quickSort(int[] a) {\n",
    "    quickSort(a, 0, a.length - 1);\n",
    "}\n",
    "\n",
    "public static void quickSort(int[] a, int low, int high) {\n",
    "    if (low < high) {\n",
    "        int pivotIndex = partition(a, low, high); // value at pivotIndex will be in correct spot\n",
    "        quickSort(a, low, pivotIndex - 1); // recursively sort the items to the left (< pivot)\n",
    "        quickSort(a, pivotIndex + 1, high); // recursively sort the items to the right (>= pivot)\n",
    "    }\n",
    "}\n",
    "\n",
    "public int partition(int[] arr, int low, int high) {\n",
    "    int pivot = arr[low]; // select the first value as the pivot value (there are better ways to do this!)\n",
    "    int boundaryIndex = low + 1; // the index of the first place (left-most) to put a value < pivot\n",
    "    for (int i = low; i < high; i++) {\n",
    "        if (arr[i] < pivot) {\n",
    "            if (i != boundaryIndex) { // if it is ==, no swap needed since it's on correct side of partition\n",
    "                swap(arr, i, boundaryIndex);\n",
    "            }\n",
    "            boundaryIndex++; // must always bump boundary if a smaller element found at arr[i]\n",
    "        }\n",
    "    }\n",
    "    /*\n",
    "     * boundaryIndex is the first (left-most) index of values >= pivot, because all\n",
    "     * elements to the left of boundaryIndex are < pivot so we'll swap the pivot (at\n",
    "     * index low) with the value at boundaryIndex -1, so pivot is placed correctly\n",
    "     */\n",
    "    swap(arr, low, boundaryIndex - 1);\n",
    "    return boundaryIndex - 1;\n",
    "}\n",
    "```\n",
    "\n",
    "**Pseudo Code** (picking first element as pivot)\n",
    "```\n",
    "// low  --> Starting index,\n",
    "// high  --> Ending index\n",
    "quickSort(arr[], low, high) {\n",
    "\n",
    "  // Till starting index is lesser than ending index\n",
    "  if (low < high) {\n",
    "\n",
    "    // pi is partitioning index,\n",
    "    // arr[p] is now at right place\n",
    "    pi = partition(arr, low, high);\n",
    "\n",
    "    // Before pi\n",
    "    quickSort(arr, low, pi - 1);\n",
    "    // After pi\n",
    "    quickSort(arr, pi + 1, high);\n",
    "  }\n",
    "}\n",
    "```\n",
    "\n",
    "**Efficiency**\n",
    "\n",
    "Analyzing the efficiency here is somewhat complicated by the choice of pivot. If the pivot is perfectly chosen each time, then the array is effectively split in half at each step. That would make the efficiency $O(Nlog_2(N))$ for the same reason that merge sort is. However, in the worst case the pivot isn’t in the middle, instead it is at one of the ends. That would make the efficiency $O(N^2)$. \n",
    "\n",
    "So, which is it? Technically, the worst case complexity is $O(N^2)$. However, in practice with a randomly chosen pivot each time, it is usually $O(Nlog_2(N))$. It is also usually faster than merge sort, because the partitioning process is faster than merging.\n",
    "\n",
    "<img src=\"assets/dalg/quick-sort.png\" alt=\"quick-sort\" width=\"500\"/>"
   ]
  },
  {
   "cell_type": "markdown",
   "id": "6b9e159c-cf41-4d76-8d0d-b30c19746dc6",
   "metadata": {
    "jupyter": {
     "source_hidden": true
    },
    "tags": []
   },
   "source": [
    "\n",
    "**Sample C++ Implementation 2**\n",
    "```\n",
    "#include\n",
    "using namespace std;\n",
    "\n",
    "void swap(int arr[] , int pos1, int pos2){\n",
    "\tint temp;\n",
    "\ttemp = arr[pos1];\n",
    "\tarr[pos1] = arr[pos2];\n",
    "\tarr[pos2] = temp;\n",
    "}\n",
    "\n",
    "int partition(int arr[], int low, int high, int pivot){\n",
    "\tint i = low;\n",
    "\tint j = low;\n",
    "\twhile( i <= high){\n",
    "\t\tif(arr[i] > pivot){\n",
    "\t\t\ti++;\n",
    "\t\t}\n",
    "\t\telse{\n",
    "\t\t\tswap(arr,i,j);\n",
    "\t\t\ti++;\n",
    "\t\t\tj++;\n",
    "\t\t}\n",
    "\t}\n",
    "\treturn j-1;\n",
    "}\n",
    "\n",
    "void quickSort(int arr[], int low, int high){\n",
    "\tif(low < high){\n",
    "\tint pivot = arr[high];\n",
    "\tint pos = partition(arr, low, high, pivot);\n",
    "\t\n",
    "\tquickSort(arr, low, pos-1);\n",
    "\tquickSort(arr, pos+1, high);\n",
    "\t}\n",
    "}\n",
    "\n",
    "int main()\n",
    "{\n",
    "\tint n ;\n",
    "\tcout << \" enter the size of array\";\n",
    "\tcin>>n;\n",
    "\tint arr[n];\n",
    "\tfor( int i = 0 ; i < n; i++){\n",
    "\t\tcin>> arr[i];\n",
    "\t}\n",
    "\tquickSort(arr, 0 , n-1);\n",
    "\tcout<<\"The sorted array is: \";\n",
    "\tfor( int i = 0 ; i < n; i++){\n",
    "\t\tcout<< arr[i]<<\"\\t\";\n",
    "\t}\n",
    "\t\n",
    "}\n",
    "```"
   ]
  },
  {
   "cell_type": "code",
   "execution_count": 378,
   "id": "c3cd3ad7-4cc4-42c0-aeb2-e8b164d03b3a",
   "metadata": {
    "tags": []
   },
   "outputs": [],
   "source": [
    "# This implementation utilizes pivot as the last element in the nums list\n",
    "# It has a pointer to keep track of the elements smaller than the pivot\n",
    "# At the very end of partition() function, the pointer is swapped with the pivot\n",
    "# to come up with a \"sorted\" nums relative to the pivot\n",
    "\n",
    "# piv - pivot\n",
    "# l - left, low point\n",
    "# r - right, high point\n",
    "\n",
    "def partition(l, r, nums):\n",
    "    # Last element will be the pivot and the first element the pointer\n",
    "    pivot, ptr = nums[r], l\n",
    "    for i in range(l, r):\n",
    "        if nums[i] <= pivot:\n",
    "            # Swapping values smaller than the pivot to the front\n",
    "            nums[i], nums[ptr] = nums[ptr], nums[i]\n",
    "            ptr += 1\n",
    "    # Finally swapping the last element with the pointer indexed number\n",
    "    nums[ptr], nums[r] = nums[r], nums[ptr]\n",
    "    return ptr\n",
    "\n",
    "# With quicksort() function, we will be utilizing the above code to obtain the pointer\n",
    "# at which the left values are all smaller than the number at pointer index and vice versa\n",
    "# for the right values.\n",
    "\n",
    "\n",
    "def quicksort(l, r, nums):\n",
    "    if len(nums) == 1:  # Terminating Condition for recursion. VERY IMPORTANT!\n",
    "        return nums\n",
    "    if l < r:\n",
    "        piv = partition(l, r, nums)\n",
    "        quicksort(l, piv - 1, nums)  # Recursively sorting the left values\n",
    "        quicksort(piv + 1, r, nums)  # Recursively sorting the right values\n",
    "    return nums"
   ]
  },
  {
   "cell_type": "code",
   "execution_count": 379,
   "id": "78e4d545-fc80-4f12-8ee2-c2afda1b632d",
   "metadata": {},
   "outputs": [
    {
     "name": "stdout",
     "output_type": "stream",
     "text": [
      "[90, 0, 42, 11, 21, 95, 81, 35, 100, 97, 53, 96, 87, 28, 72, 29, 90, 67, 41, 89]\n"
     ]
    }
   ],
   "source": [
    "# Generate random list of sorted integers\n",
    "random.seed = 1234\n",
    "arr = [random.randint(0,100) for _ in range(20)]\n",
    "print(arr)"
   ]
  },
  {
   "cell_type": "code",
   "execution_count": 382,
   "id": "b9f54b32-bafe-46f5-893f-e4a827985354",
   "metadata": {},
   "outputs": [
    {
     "name": "stdout",
     "output_type": "stream",
     "text": [
      "[0, 11, 21, 28, 29, 35, 41, 42, 53, 67, 72, 81, 87, 89, 90, 90, 95, 96, 97, 100]\n"
     ]
    }
   ],
   "source": [
    "print( quicksort(0, len(arr)-1, arr) )"
   ]
  },
  {
   "cell_type": "markdown",
   "id": "505a3bea-ccf3-4f56-90bc-74aa263915e6",
   "metadata": {},
   "source": [
    "## *Stable* Algorithms \n",
    "\n",
    "A stable sort is one where, after sorting, the relative position of equal elements remains the same. Why is this useful? Let’s imagine you are sorting students and you want a list of students sorted by gender, but within gender you want them sorted by name. If you are using a stable sort, then you first sort the entire list by name and then sort the entire list by gender. The final list will have the ordering you want.\n",
    "\n",
    "Bubble, insertion and merge sort are stable sorts. Selection and quick sort are not stable sorts.\n",
    "\n",
    "Potential quiz/exam questions for you to think through:\n",
    "\n",
    "* [Why is selection sort not stable?](https://stackoverflow.com/questions/20761396/why-selection-sort-can-be-stable-or-unstable)\n",
    "* [Why is quick sort not stable?](https://stackoverflow.com/questions/13498213/quicksort-algorithm-stability)\n",
    "\n",
    "https://stackoverflow.com/questions/1517793/what-is-stability-in-sorting-algorithms-and-why-is-it-important\n",
    "\n",
    "<img src=\"assets/dalg/stability.png\" alt=\"stability\" width=\"500\"/>"
   ]
  },
  {
   "cell_type": "markdown",
   "id": "bf00ad3b-3dc9-405a-ac7f-0fe41a1ccedd",
   "metadata": {},
   "source": [
    "# Data Structures\n",
    "___\n",
    "\n",
    "* https://www.cs.cmu.edu/~15122/handouts/12-hashing.pdf\n",
    "* http://www.cs.cmu.edu/~15122-archive/n18/lec/12-hashtables.pdf\n",
    "\n",
    "\n",
    "* https://www.andrew.cmu.edu/user/nbier/15110/lectures/lec11_arrays_hash_lists.pdf\n",
    "* https://stackoverflow.com/questions/114830/is-a-python-dictionary-an-example-of-a-hash-table\n",
    "\n",
    "Simple linked-list implementations: \n",
    "* https://www.tutorialspoint.com/python_data_structure/python_linked_lists.htm\n",
    "* https://www.geeksforgeeks.org/linked-list-set-1-introduction/"
   ]
  },
  {
   "cell_type": "code",
   "execution_count": 242,
   "id": "94f1748f-1eba-446d-bdb4-982336926262",
   "metadata": {},
   "outputs": [],
   "source": [
    "# hash table - python dictionary\n",
    "# linked-lists\n",
    "# See Beautiful Code, Ch 18: Python’s Dictionary Implementation: Being All Things to All PeopleAndrew Kuchling"
   ]
  },
  {
   "cell_type": "code",
   "execution_count": null,
   "id": "0bf138be-f97e-41aa-abeb-120e24f88f8b",
   "metadata": {},
   "outputs": [],
   "source": [
    "# Useful collections\n",
    "https://docs.python.org/3/library/collections.html"
   ]
  },
  {
   "cell_type": "markdown",
   "id": "eb83e9b1-83f2-4fe8-895a-f04ee6aeb576",
   "metadata": {},
   "source": [
    "# Memoization\n",
    "___\n",
    "\n",
    "In computing, memoization or memoisation is an optimization technique used primarily to speed up computer programs by storing the results of expensive function calls and returning the cached result when the same inputs occur again.\n",
    "\n",
    "https://en.wikipedia.org/wiki/Memoization\n",
    "\n",
    "Can be thought of as functions with memeory. \n",
    "\n",
    "Similar to concept of **closure** and **backpacks** or **persistent lexically scoped reference (PLSR)** in JavaScript. See [slides](https://static.frontendmasters.com/resources/2019-09-18-javascript-hard-parts-v2/javascript-hard-parts-v2.pdf)."
   ]
  },
  {
   "cell_type": "code",
   "execution_count": 305,
   "id": "627762ce-82ae-43ed-8e81-6a461936c623",
   "metadata": {},
   "outputs": [],
   "source": [
    "# We can store the results of expensive calculation in a cache like follows\n",
    "\n",
    "# The outer function creates a scope and a cache which is attached to the inner function\n",
    "def outer():\n",
    "    cache = {}\n",
    "    def expensive_calculation(x):\n",
    "        if x not in cache:\n",
    "            cache[x] = x**2\n",
    "            print('new calculation!')\n",
    "        else:\n",
    "            print('return cached result!')\n",
    "        return cache[x]\n",
    "    return expensive_calculation"
   ]
  },
  {
   "cell_type": "code",
   "execution_count": 308,
   "id": "97f88daa-1ec9-4128-9e1f-377e94dac713",
   "metadata": {},
   "outputs": [
    {
     "name": "stdout",
     "output_type": "stream",
     "text": [
      "new calculation!\n",
      "4\n",
      "new calculation!\n",
      "16\n",
      "return cached result!\n",
      "4\n",
      "new calculation!\n",
      "4\n",
      "new calculation!\n",
      "16\n",
      "return cached result!\n",
      "16\n"
     ]
    }
   ],
   "source": [
    "# Note that each function has its own cache/scope\n",
    "\n",
    "calculate = outer()\n",
    "calculate2 = outer()\n",
    "\n",
    "print(calculate(2))\n",
    "print(calculate(4))\n",
    "print(calculate(2))\n",
    "\n",
    "print(calculate2(2))\n",
    "print(calculate2(4))\n",
    "print(calculate2(4))"
   ]
  },
  {
   "cell_type": "markdown",
   "id": "60019a94-3619-4e0b-84d6-0e8bfac8d2aa",
   "metadata": {},
   "source": [
    "# Map, Filter, Reduce, Iterator vs Generator\n",
    "___"
   ]
  },
  {
   "cell_type": "markdown",
   "id": "19c3f3ba-af85-4699-aba8-deacbb993931",
   "metadata": {},
   "source": [
    "### Map"
   ]
  },
  {
   "cell_type": "code",
   "execution_count": 312,
   "id": "3863b383-15d2-4795-856b-26d1b3284651",
   "metadata": {},
   "outputs": [],
   "source": [
    "import pytest"
   ]
  },
  {
   "cell_type": "code",
   "execution_count": 334,
   "id": "19753209-54b8-4980-9ed5-8cb706a63c3a",
   "metadata": {},
   "outputs": [],
   "source": [
    "def my_map(func, arr):\n",
    "    return [func(x) for x in arr]\n",
    "\n",
    "\n",
    "arr =  [1, 2, 3, 4]\n",
    "func = lambda x:x**2\n",
    "result = my_map(func, arr)\n",
    "\n",
    "assert result == [1, 4, 9, 16]\n",
    "assert result == list(map(lambda x:x**2, [1, 2, 3, 4]))"
   ]
  },
  {
   "cell_type": "markdown",
   "id": "a6fc727d-beaa-46bd-8fbb-f6004359c76c",
   "metadata": {},
   "source": [
    "### Filter"
   ]
  },
  {
   "cell_type": "code",
   "execution_count": 340,
   "id": "09cb25ef-acc5-4ba9-919b-63703990efda",
   "metadata": {},
   "outputs": [],
   "source": [
    "def my_filter(func, arr):\n",
    "    return [x for x in arr if func(x)]\n",
    "\n",
    "\n",
    "arr = [1, 2, 3, 4, 5]\n",
    "def evens(x):\n",
    "    if x % 2 == 0: return True\n",
    "    else: return False\n",
    "result = my_filter(evens, arr)\n",
    "\n",
    "assert result == [2, 4]\n",
    "assert result == list(filter(evens, arr))"
   ]
  },
  {
   "cell_type": "markdown",
   "id": "374491b4-c980-4578-b1f5-f8d7567e83c6",
   "metadata": {},
   "source": [
    "### Reduce"
   ]
  },
  {
   "cell_type": "code",
   "execution_count": 363,
   "id": "36dceb10-6d96-4a1a-afb7-a95dd1f0ba0b",
   "metadata": {},
   "outputs": [
    {
     "data": {
      "text/plain": [
       "15"
      ]
     },
     "execution_count": 363,
     "metadata": {},
     "output_type": "execute_result"
    }
   ],
   "source": [
    "# https://realpython.com/python-reduce-function/\n",
    "\n",
    "def my_reduce(function, iterable, initializer=None):\n",
    "    it = iter(iterable)\n",
    "    if initializer is None:\n",
    "        value = next(it)\n",
    "    else:\n",
    "        value = initializer\n",
    "    for element in it:\n",
    "        value = function(value, element)\n",
    "    return value\n",
    "\n",
    "my_reduce(lambda a, b: a+b, [1,2,3,4,5])"
   ]
  },
  {
   "cell_type": "markdown",
   "id": "5939c93f-66d3-4417-9596-47bf3a54cde4",
   "metadata": {},
   "source": [
    "### Iterator vs Generator\n",
    "\n",
    "* Generators are also iterators, but not vice versa; both are iterables\n",
    "* Both advance through calling `next()`\n",
    "* Generators use the `yield` keyword\n",
    "* Generators are generally [sufficient and simpler to implement/write](https://stackoverflow.com/questions/2776829/difference-between-pythons-generators-and-iterators)"
   ]
  },
  {
   "cell_type": "code",
   "execution_count": 350,
   "id": "7a251506-0973-4c01-81a2-2212a93939a5",
   "metadata": {},
   "outputs": [],
   "source": [
    "# iterator version, returns an iterable, where we can get the next item with next()\n",
    "def my_map_iterator(func, arr):\n",
    "    return iter([func(x) for x in arr])\n",
    "    \n",
    "# generator, returns a generator with keyword yield, where we can get the next item with next()\n",
    "def my_map_generator(func, arr):\n",
    "    for x in arr: yield x"
   ]
  },
  {
   "cell_type": "code",
   "execution_count": 358,
   "id": "9900c39f-9b98-4b4e-9d2f-576a9e6d4e96",
   "metadata": {},
   "outputs": [
    {
     "name": "stdout",
     "output_type": "stream",
     "text": [
      "1\n",
      "4\n",
      "9\n"
     ]
    },
    {
     "ename": "StopIteration",
     "evalue": "",
     "output_type": "error",
     "traceback": [
      "\u001b[1;31m---------------------------------------------------------------------------\u001b[0m",
      "\u001b[1;31mStopIteration\u001b[0m                             Traceback (most recent call last)",
      "\u001b[1;32m~\\AppData\\Local\\Temp/ipykernel_27352/1978493794.py\u001b[0m in \u001b[0;36m<module>\u001b[1;34m\u001b[0m\n\u001b[0;32m      3\u001b[0m \u001b[0mprint\u001b[0m\u001b[1;33m(\u001b[0m\u001b[0mnext\u001b[0m\u001b[1;33m(\u001b[0m\u001b[0mmy_iterator\u001b[0m\u001b[1;33m)\u001b[0m\u001b[1;33m)\u001b[0m\u001b[1;33m\u001b[0m\u001b[1;33m\u001b[0m\u001b[0m\n\u001b[0;32m      4\u001b[0m \u001b[0mprint\u001b[0m\u001b[1;33m(\u001b[0m\u001b[0mnext\u001b[0m\u001b[1;33m(\u001b[0m\u001b[0mmy_iterator\u001b[0m\u001b[1;33m)\u001b[0m\u001b[1;33m)\u001b[0m\u001b[1;33m\u001b[0m\u001b[1;33m\u001b[0m\u001b[0m\n\u001b[1;32m----> 5\u001b[1;33m \u001b[0mprint\u001b[0m\u001b[1;33m(\u001b[0m\u001b[0mnext\u001b[0m\u001b[1;33m(\u001b[0m\u001b[0mmy_iterator\u001b[0m\u001b[1;33m)\u001b[0m\u001b[1;33m)\u001b[0m\u001b[1;33m\u001b[0m\u001b[1;33m\u001b[0m\u001b[0m\n\u001b[0m",
      "\u001b[1;31mStopIteration\u001b[0m: "
     ]
    }
   ],
   "source": [
    "my_iterator = my_map_iterator(lambda x:x**2, [1,2,3])\n",
    "print(next(my_iterator))\n",
    "print(next(my_iterator))\n",
    "print(next(my_iterator))\n",
    "print(next(my_iterator))"
   ]
  },
  {
   "cell_type": "code",
   "execution_count": 365,
   "id": "174676b7-5423-4618-aa3b-dae9a4f679d4",
   "metadata": {},
   "outputs": [
    {
     "name": "stdout",
     "output_type": "stream",
     "text": [
      "1\n"
     ]
    }
   ],
   "source": [
    "my_generator = my_map_generator(lambda x:x**2, [1,2,3])\n",
    "\n",
    "print(next(my_generator))"
   ]
  },
  {
   "cell_type": "code",
   "execution_count": 367,
   "id": "9788a0e9-c74e-446d-8066-ca215831107c",
   "metadata": {},
   "outputs": [],
   "source": [
    "a,b = 1,10"
   ]
  },
  {
   "cell_type": "code",
   "execution_count": 368,
   "id": "d9b0cb94-564f-4c05-a757-d161fa216a1c",
   "metadata": {},
   "outputs": [],
   "source": [
    "def squares(start, stop):\n",
    "    for i in range(start, stop):\n",
    "        yield i * i\n",
    "\n",
    "generator = squares(a, b)"
   ]
  },
  {
   "cell_type": "code",
   "execution_count": 369,
   "id": "928d50df-15d0-4c76-9174-9ba2d3ffb544",
   "metadata": {},
   "outputs": [],
   "source": [
    "class Squares(object):\n",
    "    def __init__(self, start, stop):\n",
    "       self.start = start\n",
    "       self.stop = stop\n",
    "    def __iter__(self): return self\n",
    "    def __next__(self):\n",
    "       if self.start >= self.stop:\n",
    "           raise StopIteration\n",
    "       current = self.start * self.start\n",
    "       self.start += 1\n",
    "       return current\n",
    "\n",
    "iterator = Squares(a, b)"
   ]
  },
  {
   "cell_type": "code",
   "execution_count": 371,
   "id": "effbe49b-c10c-459f-a785-ab189488b0c6",
   "metadata": {},
   "outputs": [
    {
     "name": "stdout",
     "output_type": "stream",
     "text": [
      "4\n",
      "4\n"
     ]
    }
   ],
   "source": [
    "print(next(generator))\n",
    "print(next(iterator))"
   ]
  },
  {
   "cell_type": "code",
   "execution_count": null,
   "id": "e3b432d0-f4c8-469a-9898-6d4ca2fd4d35",
   "metadata": {},
   "outputs": [],
   "source": []
  }
 ],
 "metadata": {
  "kernelspec": {
   "display_name": "Python 3 (ipykernel)",
   "language": "python",
   "name": "python3"
  },
  "language_info": {
   "codemirror_mode": {
    "name": "ipython",
    "version": 3
   },
   "file_extension": ".py",
   "mimetype": "text/x-python",
   "name": "python",
   "nbconvert_exporter": "python",
   "pygments_lexer": "ipython3",
   "version": "3.9.7"
  }
 },
 "nbformat": 4,
 "nbformat_minor": 5
}
