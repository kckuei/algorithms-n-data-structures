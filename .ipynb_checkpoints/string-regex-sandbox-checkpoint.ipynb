{
 "cells": [
  {
   "cell_type": "code",
   "execution_count": 48,
   "id": "ee7093b2-bd88-4374-b269-62a4c299a126",
   "metadata": {},
   "outputs": [
    {
     "data": {
      "text/html": [
       "<style>\n",
       "table { text-align: left; display: block}\n",
       "</style>\n"
      ],
      "text/plain": [
       "<IPython.core.display.HTML object>"
      ]
     },
     "metadata": {},
     "output_type": "display_data"
    }
   ],
   "source": [
    "%%html\n",
    "<style>\n",
    "table { text-align: left; display: block}\n",
    "</style>"
   ]
  },
  {
   "cell_type": "markdown",
   "id": "226f3010-ee66-4927-ae26-b47e65d06dff",
   "metadata": {
    "tags": []
   },
   "source": [
    "# String Manipulation and Regex Practice \n",
    "___\n",
    "\n",
    "**References**\n",
    "* https://docs.python.org/3/howto/regex.html\n",
    "* https://developers.google.com/edu/python/regular-expressions\n",
    "* https://www.regular-expressions.info/quickstart.html\n",
    "https://www.w3schools.com/python/python_regex.asp\n",
    "* https://stackoverflow.com/questions/267399/how-do-you-match-only-valid-roman-numerals-with-a-regular-expression\n",
    "\n",
    "**Best practice for RegEx patterns should be of form `r\"...\"`**\n",
    "\n",
    "\n",
    "\n",
    "```\n",
    "All regex patterns should start be of the form pattern=r\"...\"\n",
    "\n",
    "^ // matches position just before the first character of the string (anchors to beginning of line)\n",
    "$ // matches position just after the last character of the string (anchors to end of line)\n",
    ". matches a single character. Does not matter what character it is, except newline\n",
    "* // matches preceding match zero or more times\n",
    "\n",
    ".* // zero or more of any charactter\n",
    "\n",
    "^.*$ // match, from beginning to end, any character that appears zero or more times (This regex pattern is not very useful)\n",
    "\n",
    "```\n",
    "\n",
    "**RegEx Functions**\n",
    "\n",
    "* `findall`\tReturns a list containing all matches\n",
    "* `search`\tReturns a Match object if there is a match anywhere in the string\n",
    "* `split`\tReturns a list where the string has been split at each match\n",
    "* `sub`\tReplaces one or many matches with a string\n",
    "\n",
    "**RegEx Metacharacters**\n",
    "\n",
    "| <div style=\"width:50px\">Character</div>   | <div style=\"width:50px\">Description</div>   | <div style=\"width:50px\">Example</div>   |\n",
    "| ------- | ------- | ------- |\n",
    "|`[]`| A set of characters\t| \"[a-m]\"\t|\n",
    "|`\\`\t| Signals a special sequence (can also be used to escape special characters)\t| \"\\d\"\t|\n",
    "|`.`\t| Any character (except newline character)\t| \"he..o\"\t|\n",
    "|`^`\t| Starts with\t| \"^hello\"\t|\n",
    "|`$`\t| Ends with\t\"planet$\"\t\n",
    "|`*`\t| Zero or more occurrences\t| \"he.*o\"\t|\n",
    "|`+`\t| One or more occurrences\t| \"he.+o\"\t|\n",
    "|`?`\t| Zero or one occurrences\t| \"he.?o\"\t|\n",
    "|`{}`\t| Exactly the specified number of occurrences\t| \"he.{2}o\"\t|\n",
    "| `\\|`| Either or\t| \"falls\\|stays\"\t|\n",
    "|`()`\t| Capture and group| |\t \n",
    "\n",
    "\n",
    "**RegEx Special Sequences**\n",
    "\n",
    "| <div style=\"width:50px\">Character</div>   | <div style=\"width:50px\">Description</div>   | <div style=\"width:50px\">Example</div>   |\n",
    "| ------- | ------- | ------- |\n",
    "|`\\A`|\tReturns a match if the specified characters are at the beginning of the string\t|\"\\AThe\"\t|\n",
    "|`\\b`|\tReturns a match where the specified characters are at the beginning or at the end of a word (the \"r\" in the beginning is making sure that the string is being treated as a \"raw string\")\t|r\"\\bain\" r\"ain\\b\"\t|\n",
    "|`\\B`|\tReturns a match where the specified characters are present, but NOT at the beginning (or at the end) of a word (the \"r\" in the beginning is making sure that the string is being treated as a \"raw string\")\t|r\"\\Bain\" r\"ain\\B\"\t |\n",
    "|`\\d`|\tReturns a match where the string contains digits (numbers from 0-9) |\t\"\\d\"|\t\n",
    "|`\\D`|\tReturns a match where the string DOES NOT contain digits\t|\"\\D\"\t|\n",
    "|`\\s`|\tReturns a match where the string contains a white space character |\t\"\\s\"\t|\n",
    "|`\\S`|\tReturns a match where the string DOES NOT contain a white space character\t|\"\\S\"|\t\n",
    "|`\\w`|\tReturns a match where the string contains any word characters (characters from a to Z, digits from 0-9, and the underscore _ character)\t| \"\\w\"\t|\n",
    "|`\\W`|\tReturns a match where the string DOES NOT contain any word characters\t|\"\\W\"\t|\n",
    "|`\\Z`|\tReturns a match if the specified characters are at the end of the string\t|\"Spain\\Z\"|\n",
    "\n",
    "\n",
    "**RegEx Sets**\n",
    "\n",
    "| <div style=\"width:50px\">Character</div>   | <div style=\"width:50px\">Description</div>   |\n",
    "| ------- | ------- | \n",
    "|`[arn]`\t|Returns a match where one of the specified characters (a, r, or n) are present\t|\n",
    "|`[a-n]`\t|Returns a match for any lower case character, alphabetically between a and n\t|\n",
    "|`[^arn]`\t|Returns a match for any character EXCEPT a, r, and n\t|\n",
    "|`[0123]`\t|Returns a match where any of the specified digits (0, 1, 2, or 3) are present\t|\n",
    "|`[0-9]`\t|Returns a match for any digit between 0 and 9\t|\n",
    "|`[0-5][0-9]`\t|Returns a match for any two-digit numbers from 00 and 59\t|\n",
    "|`[a-zA-Z]`\t|Returns a match for any character alphabetically between a and z, lower case OR upper case\t|\n",
    "|`[+]`\t|In sets, +, *, ., |, (), $,{} has no special meaning, so [+] means: return a match for any + character in the string|\n",
    "\n"
   ]
  },
  {
   "cell_type": "code",
   "execution_count": 2,
   "id": "ac4f9271-0732-4d7f-9bf5-f67c145a9bd4",
   "metadata": {},
   "outputs": [],
   "source": [
    "import re"
   ]
  },
  {
   "cell_type": "markdown",
   "id": "4891feea-3692-4230-8bcf-2e75c73afa11",
   "metadata": {},
   "source": [
    "## Extract *only* alphanum, characters, digits, upper/lower characters with RegEx\n",
    "\n",
    "\n",
    "`re.sub(pattern, repl, string, count=0, flags=0)`\n",
    "Return the string obtained by replacing the leftmost non-overlapping occurrences of pattern in string by the replacement repl."
   ]
  },
  {
   "cell_type": "code",
   "execution_count": 7,
   "id": "1f64e9de-d0aa-485d-83dc-54d6af3eec53",
   "metadata": {},
   "outputs": [
    {
     "name": "stdout",
     "output_type": "stream",
     "text": [
      "Qa24q Qa24q 24 Qaq aq Q\n"
     ]
    }
   ],
   "source": [
    "s = \"Qa24q\"\n",
    "\n",
    "s_alphanum_1 = re.sub(r\"\\W+\", \"\", s)\n",
    "s_alphanum_2 = re.sub(r\"[^0-9a-zA-Z]\", \"\", s) # Equivalent to above\n",
    "\n",
    "s_num = re.sub(\"[^0-9]\", \"\", s)\n",
    "s_alpha = re.sub(\"[^a-zA-Z]+\", \"\", s)\n",
    "s_alphalower = re.sub(\"[^a-z]\", \"\", s)\n",
    "s_alphaupper = re.sub(\"[^A-Z]\", \"\", s)\n",
    "\n",
    "print(s_alphanum_1, s_alphanum_2, s_num, s_alpha, s_alphalower, s_alphaupper)"
   ]
  },
  {
   "cell_type": "markdown",
   "id": "ce3f4348-fa04-432c-8d19-c7af736b4987",
   "metadata": {},
   "source": [
    "## Extract *only* alphanum, characters, digits, upper/lower characters with Python In-Built Methods\n",
    "\n",
    "Python in-built methods such as `.isalnum`, `.isalpha`, `.isdigit`, `.islower`, `.isupper`, only returns `True` if all of the characters satisfy the condition."
   ]
  },
  {
   "cell_type": "code",
   "execution_count": 9,
   "id": "2ef08312-03a5-4f4f-ac49-74400cbd76eb",
   "metadata": {},
   "outputs": [
    {
     "name": "stdout",
     "output_type": "stream",
     "text": [
      "Qa24q 24 Qaq aq Q\n"
     ]
    }
   ],
   "source": [
    "# Example using filter\n",
    "\n",
    "s = \"Qa24q\"\n",
    "\n",
    "s_alphanum = ''.join(filter(str.isalnum, s))\n",
    "\n",
    "s_num = ''.join(filter(str.isdigit, s))\n",
    "s_alpha = ''.join(filter(str.isalpha, s))\n",
    "s_alphalower = ''.join(filter(str.islower, s))\n",
    "s_alphaupper = ''.join(filter(str.isupper, s))\n",
    "\n",
    "print(s_alphanum, s_num, s_alpha, s_alphalower, s_alphaupper)"
   ]
  },
  {
   "cell_type": "code",
   "execution_count": 10,
   "id": "590a64e9-e812-4491-9427-eb2372828855",
   "metadata": {},
   "outputs": [
    {
     "name": "stdout",
     "output_type": "stream",
     "text": [
      "Qa24q 24 Qaq Q aq\n"
     ]
    }
   ],
   "source": [
    "# Example using list comprehension\n",
    "\n",
    "s = \"Qa24q\"\n",
    "\n",
    "s_alphanum = ''.join([c for c in s if c.isalnum()])\n",
    "\n",
    "s_num = ''.join([c for c in s if c.isdigit()])\n",
    "s_alpha = ''.join([c for c in s if c.isalpha()])\n",
    "s_alphalower = ''.join([c for c in s if c.isupper()])\n",
    "s_alphaupper = ''.join([c for c in s if c.islower()])\n",
    "\n",
    "print(s_alphanum, s_num, s_alpha, s_alphalower, s_alphaupper)"
   ]
  },
  {
   "cell_type": "markdown",
   "id": "2bc72e3a-6a9f-4bfb-b3f6-a034dbc6f95b",
   "metadata": {},
   "source": [
    "## Regex - First match in a string\n",
    "\n",
    "`re.search(pattern, string, flags=0)` \n",
    "Scan through string looking for the first location where the regular expression pattern produces a match, and return a corresponding match object. Return None if no position in the string matches the pattern; note that this is different from finding a zero-length match at some point in the string."
   ]
  },
  {
   "cell_type": "code",
   "execution_count": 41,
   "id": "b3c51469-ec57-4412-8d57-eeb5afcf15e2",
   "metadata": {},
   "outputs": [
    {
     "name": "stdout",
     "output_type": "stream",
     "text": [
      "0 <re.Match object; span=(0, 7), match='5%Hello'>\n",
      "1 <re.Match object; span=(12, 13), match='z'>\n",
      "2 <re.Match object; span=(0, 1), match='1'>\n",
      "3 <re.Match object; span=(0, 1), match='!'>\n",
      "3 <re.Match object; span=(0, 1), match='H'>\n",
      "4 <re.Match object; span=(4, 5), match='H'>\n",
      "5 <re.Match object; span=(4, 5), match='H'>\n",
      "6 <re.Match object; span=(8, 13), match='Hello'>\n",
      "7 <re.Match object; span=(5, 6), match='@'>\n",
      "8 <re.Match object; span=(0, 0), match=''>\n",
      "9 <re.Match object; span=(6, 7), match=' '>\n",
      "10 <re.Match object; span=(0, 1), match='H'>\n",
      "11 <re.Match object; span=(13, 14), match='7'>\n",
      "12 <re.Match object; span=(13, 13), match=''>\n",
      "13 <re.Match object; span=(0, 0), match=''>\n",
      "14 <re.Match object; span=(5, 6), match='@'>\n"
     ]
    }
   ],
   "source": [
    "matchObj = re.search(r'\\d+%[A-Za-z]+',\"5%Hello,%^&aworldz\")\n",
    "print(0, matchObj)\n",
    "\n",
    "# Single character\n",
    "print(1, re.search(r'z',\"Hello, worldz!\"))\n",
    "\n",
    "# Any character\n",
    "print(2, re.search(r'.',\"123@Hello, world!\"))\n",
    "print(3, re.search(r'.',\"!!!Hello, world!\"))\n",
    "print(3, re.search(r'.',\"Hello, world!\"))\n",
    "\n",
    "# Any word character\n",
    "print(4, re.search(r'\\w',\"!$@ Hello, world!\"))\n",
    "print(5, re.search(r'[a-zA-Z0-9]',\"!$@ Hello, world!\"))\n",
    "\n",
    "# Any alphanumeric character\n",
    "print(6, re.search(r'\\w+',\"!@#$%^&*Hello, world!\"))\n",
    "\n",
    "# Any non-word character\n",
    "print(7, re.search(r'\\W',\"Hello@world!\"))\n",
    "\n",
    "# boundary between word and non-word\n",
    "print(8, re.search(r'\\b',\"Hello, world!\"))\n",
    "\n",
    "# match any whitespace character\n",
    "print(9, re.search(r'\\s',\"Hello, world!\"))\n",
    "\n",
    "# match any non-whitespace character\n",
    "print(10, re.search(r'\\S',\"Hello, world!\"))\n",
    "\n",
    "# match decimal digit=\n",
    "print(11, re.search(r'\\d',\"Hello, world 777!\"))\n",
    "\n",
    "# Match the start of the string\n",
    "print(12, re.search(r'$',\"Hello, world!\"))\n",
    "\n",
    "# Match the end of the string\n",
    "print(13, re.search(r'^',\"Hello, world!\"))\n",
    "\n",
    "# Use \\ to inhibit specialness characters\n",
    "print(14, re.search(r'\\@',\"Hello@world!\"))"
   ]
  },
  {
   "cell_type": "markdown",
   "id": "92a5b2b8-81cd-4bbd-bed2-d80d4a22c394",
   "metadata": {},
   "source": [
    "## RegEx - Find all matches in a string\n",
    "for match in re.compile(\"l\").finditer(\"Hello world!\"):\n",
    "    print(match)"
   ]
  },
  {
   "cell_type": "code",
   "execution_count": 103,
   "id": "766eadea-4ba8-40e3-a19d-308657c3e534",
   "metadata": {},
   "outputs": [
    {
     "name": "stdout",
     "output_type": "stream",
     "text": [
      "<re.Match object; span=(1, 4), match='iii'>\n",
      "None\n",
      "<re.Match object; span=(2, 5), match='iig'>\n",
      "<re.Match object; span=(1, 4), match='123'>\n",
      "<re.Match object; span=(2, 5), match='abc'>\n"
     ]
    }
   ],
   "source": [
    "## Search for pattern 'iii' in string 'piiig'.\n",
    "## All of the pattern must match, but it may appear anywhere.\n",
    "## On success, match.group() is matched text.\n",
    "match = re.search(r'iii', 'piiig') # found, match.group() == \"iii\"\n",
    "print(match)\n",
    "match = re.search(r'igs', 'piiig') # not found, match == None\n",
    "print(match)\n",
    "\n",
    "## . = any char but \\n\n",
    "match = re.search(r'..g', 'piiig') # found, match.group() == \"iig\"\n",
    "print(match)\n",
    "\n",
    "## \\d = digit char, \\w = word char\n",
    "match = re.search(r'\\d\\d\\d', 'p123g') # found, match.group() == \"123\"\n",
    "print(match)\n",
    "match = re.search(r'\\w\\w\\w', '@@abcd!!') # found, match.group() == \"abc\"\n",
    "print(match)"
   ]
  },
  {
   "cell_type": "raw",
   "id": "957b07cd-4c29-4c96-89e1-73a75bafd6f7",
   "metadata": {},
   "source": [
    "+ -- 1 or more occurrences of the pattern to its left, e.g. 'i+' = one or more i's\n",
    "* -- 0 or more occurrences of the pattern to its left\n",
    "? -- match 0 or 1 occurrences of the pattern to its left"
   ]
  },
  {
   "cell_type": "code",
   "execution_count": 124,
   "id": "ad9f344a-4071-4455-93cf-4340a5d214d9",
   "metadata": {},
   "outputs": [
    {
     "name": "stdout",
     "output_type": "stream",
     "text": [
      "<re.Match object; span=(0, 4), match='piii'>\n",
      "<re.Match object; span=(1, 3), match='ii'>\n",
      "<re.Match object; span=(2, 9), match='1 2   3'>\n",
      "<re.Match object; span=(2, 7), match='12  3'>\n",
      "<re.Match object; span=(2, 5), match='123'>\n",
      "None\n",
      "<re.Match object; span=(3, 6), match='bar'>\n",
      "<re.Match object; span=(6, 9), match='bar'>\n"
     ]
    }
   ],
   "source": [
    "## i+ = one or more i's, as many as possible.\n",
    "match = re.search(r'pi+', 'piiig') # found, match.group() == \"piii\"\n",
    "print(match)\n",
    "\n",
    "## Finds the first/leftmost solution, and within it drives the +\n",
    "## as far as possible (aka 'leftmost and largest').\n",
    "## In this example, note that it does not get to the second set of i's.\n",
    "match = re.search(r'i+', 'piigiiii') # found, match.group() == \"ii\"\n",
    "print(match)\n",
    "\n",
    "## \\s* = zero or more whitespace chars\n",
    "## Here look for 3 digits, possibly separated by whitespace.\n",
    "match = re.search(r'\\d\\s*\\d\\s*\\d', 'xx1 2   3xx') # found, match.group() == \"1 2   3\"\n",
    "print(match)\n",
    "match = re.search(r'\\d\\s*\\d\\s*\\d', 'xx12  3xx') # found, match.group() == \"12  3\"\n",
    "print(match)\n",
    "match = re.search(r'\\d\\s*\\d\\s*\\d', 'xx123xx') # found, match.group() == \"123\"\n",
    "print(match)\n",
    "\n",
    "## ^ = matches the start of string, so this fails:\n",
    "match = re.search(r'^b\\w+', 'foobar') # not found, match == None\n",
    "print(match)\n",
    "## but without the ^ it succeeds:\n",
    "match = re.search(r'b\\w+', 'foobar') # found, match.group() == \"bar\"\n",
    "print(match)\n",
    "## $ = matches the end of string bar:\n",
    "match = re.search(r'bar$', 'barfoobar') # not found, match == None\n",
    "print(match)"
   ]
  },
  {
   "cell_type": "code",
   "execution_count": 127,
   "id": "9a3f1b09-6498-449c-9b02-b618ee25b060",
   "metadata": {},
   "outputs": [
    {
     "name": "stdout",
     "output_type": "stream",
     "text": [
      "b@google\n"
     ]
    }
   ],
   "source": [
    "str = 'purple alice-b@google.com monkey dishwasher'\n",
    "match = re.search(r'\\w+@\\w+', str)\n",
    "if match:\n",
    "    print(match.group())  ## 'b@google'"
   ]
  },
  {
   "cell_type": "code",
   "execution_count": 138,
   "id": "deb033f0-10bc-4175-99a7-8698141d6a4a",
   "metadata": {},
   "outputs": [
    {
     "name": "stdout",
     "output_type": "stream",
     "text": [
      " monkey \n"
     ]
    }
   ],
   "source": [
    "str = 'purple alice-b@google.com monkey dishwasher'\n",
    "match = re.search(r'\\s\\w+\\s', str)\n",
    "if match:\n",
    "    print(match.group())  ## 'b@google'"
   ]
  },
  {
   "cell_type": "code",
   "execution_count": 151,
   "id": "04783598-702e-4f09-8f66-8ea45a44cb07",
   "metadata": {},
   "outputs": [
    {
     "name": "stdout",
     "output_type": "stream",
     "text": [
      " alice-b@google.com \n"
     ]
    }
   ],
   "source": [
    "str = 'purple alice-b@google.com monkey dishwasher'\n",
    "match = re.search(r'\\s[a-z]+[-]*[a-z]+\\@[a-z]+.[a-z]+\\s', str)\n",
    "if match:\n",
    "    print(match.group())  ## 'b@google'"
   ]
  },
  {
   "cell_type": "code",
   "execution_count": 157,
   "id": "c42b8ff7-9d1e-4fe7-a5c5-b1bdc8d6aa7a",
   "metadata": {},
   "outputs": [
    {
     "name": "stdout",
     "output_type": "stream",
     "text": [
      "alice.cheng-b@google.com\n"
     ]
    }
   ],
   "source": [
    "# Cleaner, any one or more characters '.', '-' or alphanumeric characters with @ in between\n",
    "str = 'purple alice.cheng-b@google.com monkey dishwasher'\n",
    "match = re.search(r'[\\w.-]+@[\\w.-]+', str)\n",
    "if match:\n",
    "    print(match.group())  ## 'alice-b@google.com'"
   ]
  },
  {
   "cell_type": "code",
   "execution_count": 161,
   "id": "d2f290fa-01d6-4057-921b-7d5abd0adb9d",
   "metadata": {},
   "outputs": [
    {
     "name": "stdout",
     "output_type": "stream",
     "text": [
      "alice-b@google.com\n",
      "alice-b\n",
      "google.com\n"
     ]
    }
   ],
   "source": [
    "# Add parenthesis for logical groups, e.g. if desire split username and domain host seperately\n",
    "str = 'purple alice-b@google.com monkey dishwasher'\n",
    "match = re.search(r'([\\w.-]+)@([\\w.-]+)', str)\n",
    "if match:\n",
    "    print(match.group())   ## 'alice-b@google.com' (the whole match)\n",
    "    print(match.group(1))  ## 'alice-b' (the username, group 1)\n",
    "    print(match.group(2))  ## 'google.com' (the host, group 2)"
   ]
  },
  {
   "cell_type": "code",
   "execution_count": 163,
   "id": "2262c81f-a6b8-4caa-bb62-e79864a3abd5",
   "metadata": {},
   "outputs": [
    {
     "name": "stdout",
     "output_type": "stream",
     "text": [
      "alice@google.com\n",
      "bob@abc.com\n"
     ]
    }
   ],
   "source": [
    "## Suppose we have a text with many email addresses\n",
    "str = 'purple alice@google.com, blah monkey bob@abc.com blah dishwasher'\n",
    "\n",
    "## Here re.findall() returns a list of all the found email strings\n",
    "emails = re.findall(r'[\\w\\.-]+@[\\w\\.-]+', str) ## ['alice@google.com', 'bob@abc.com']\n",
    "for email in emails:\n",
    "# do something with each found email string\n",
    "    print(email)"
   ]
  },
  {
   "cell_type": "code",
   "execution_count": 164,
   "id": "eea40f21-1fa5-49d0-aa62-79c4ea3a7f75",
   "metadata": {},
   "outputs": [
    {
     "name": "stdout",
     "output_type": "stream",
     "text": [
      "('alice', 'google.com')\n",
      "('bob', 'abc.com')\n"
     ]
    }
   ],
   "source": [
    "## Suppose we have a text with many email addresses\n",
    "str = 'purple alice@google.com, blah monkey bob@abc.com blah dishwasher'\n",
    "\n",
    "## Here re.findall() returns a list of all the found email strings\n",
    "emails = re.findall(r'([\\w\\.-]+)@([\\w\\.-]+)', str) ## ['alice@google.com', 'bob@abc.com']\n",
    "for email in emails:\n",
    "# do something with each found email string\n",
    "    print(email)"
   ]
  },
  {
   "cell_type": "code",
   "execution_count": 165,
   "id": "4c96c281-7bab-49bc-8b78-e9c0cafdc62e",
   "metadata": {},
   "outputs": [
    {
     "name": "stdout",
     "output_type": "stream",
     "text": [
      "[('alice', 'google.com'), ('bob', 'abc.com')]\n",
      "alice\n",
      "google.com\n",
      "bob\n",
      "abc.com\n"
     ]
    }
   ],
   "source": [
    "str = 'purple alice@google.com, blah monkey bob@abc.com blah dishwasher'\n",
    "tuples = re.findall(r'([\\w\\.-]+)@([\\w\\.-]+)', str)\n",
    "print(tuples)  ## [('alice', 'google.com'), ('bob', 'abc.com')]\n",
    "for tuple in tuples:\n",
    "    print(tuple[0])  ## username\n",
    "    print(tuple[1])  ## host"
   ]
  },
  {
   "cell_type": "raw",
   "id": "0061f951-a32a-4842-b521-f2fbdd340696",
   "metadata": {},
   "source": [
    "The re functions take options to modify the behavior of the pattern match. The option flag is added as an extra argument to the search() or findall() etc., e.g. re.search(pat, str, re.IGNORECASE).\n",
    "\n",
    "IGNORECASE -- ignore upper/lowercase differences for matching, so 'a' matches both 'a' and 'A'.\n",
    "DOTALL -- allow dot (.) to match newline -- normally it matches anything but newline. This can trip you up -- you think .* matches everything, but by default it does not go past the end of a line. Note that \\s (whitespace) includes newlines, so if you want to match a run of whitespace that may include a newline, you can just use \\s*\n",
    "MULTILINE -- Within a string made of many lines, allow ^ and $ to match the start and end of each line. Normally ^/$ would just match the start and end of the whole string."
   ]
  },
  {
   "cell_type": "code",
   "execution_count": null,
   "id": "f78b258b-c524-4e52-b84d-bed796704b12",
   "metadata": {},
   "outputs": [],
   "source": []
  },
  {
   "cell_type": "code",
   "execution_count": 171,
   "id": "06ef9f9b-ee28-4bc1-9564-f8d2224bc55b",
   "metadata": {},
   "outputs": [
    {
     "name": "stdout",
     "output_type": "stream",
     "text": [
      "ALICE@google.com\n",
      "BOBBY@abc.com\n"
     ]
    }
   ],
   "source": [
    "## Suppose we have a text with many email addresses\n",
    "str = 'purple ALICE@google.com, blah monkey BOBBY@abc.com blah dishwasher'\n",
    "\n",
    "## Here re.findall() returns a list of all the found email strings\n",
    "emails = re.findall(r'[a-z\\.-]+@[a-z\\.-]+', str, re.IGNORECASE) ## ['alice@google.com', 'bob@abc.com']\n",
    "for email in emails:\n",
    "# do something with each found email string\n",
    "    print(email)"
   ]
  },
  {
   "cell_type": "code",
   "execution_count": 186,
   "id": "f88ffc4c-e082-4051-be4a-a032e3a4bfa6",
   "metadata": {},
   "outputs": [
    {
     "name": "stdout",
     "output_type": "stream",
     "text": [
      "<b>foo</b> and <i>so on</i>\n"
     ]
    }
   ],
   "source": [
    "str = '<b>foo</b> and <i>so on</i>'\n",
    "match = re.search(r'<.*>', str)\n",
    "if match:\n",
    "    print(match.group())  "
   ]
  },
  {
   "cell_type": "code",
   "execution_count": 187,
   "id": "ad45e3a5-f580-4997-8c5d-09d0e8f5bed0",
   "metadata": {},
   "outputs": [
    {
     "name": "stdout",
     "output_type": "stream",
     "text": [
      "<b>\n"
     ]
    }
   ],
   "source": [
    "str = '<b>foo</b> and <i>so on</i>'\n",
    "match = re.search(r'<\\w>', str)\n",
    "if match:\n",
    "    print(match.group())  "
   ]
  },
  {
   "cell_type": "code",
   "execution_count": 190,
   "id": "ffb61814-a893-4914-b291-15942ada0746",
   "metadata": {},
   "outputs": [
    {
     "name": "stdout",
     "output_type": "stream",
     "text": [
      "['<b>', '</b>', '<i>', '</i>']\n"
     ]
    }
   ],
   "source": [
    "str = '<b>foo</b> and <i>so on</i>'\n",
    "match = re.findall(r'</*\\w>', str)\n",
    "if match:\n",
    "    print(match)"
   ]
  },
  {
   "cell_type": "code",
   "execution_count": 177,
   "id": "891061c3-59c5-4795-9a31-4558002afd08",
   "metadata": {},
   "outputs": [
    {
     "name": "stdout",
     "output_type": "stream",
     "text": [
      "./*@#@!()\n"
     ]
    }
   ],
   "source": [
    "# 0 or more of any characters\n",
    "str = './*@#@!()'\n",
    "match = re.search(r'.*', str)\n",
    "if match:\n",
    "    print(match.group())  "
   ]
  },
  {
   "cell_type": "code",
   "execution_count": 208,
   "id": "3aebb966-5403-4a01-95b8-d5d3e5f45e4e",
   "metadata": {},
   "outputs": [
    {
     "name": "stdout",
     "output_type": "stream",
     "text": [
      "purple alice@yo-yo-dyne.com, blah monkey bob@yo-yo-dyne.com blah dishwasher\n"
     ]
    }
   ],
   "source": [
    "str = 'purple alice@google.com, blah monkey bob@abc.com blah dishwasher'\n",
    "replacement = r'\\1@yo-yo-dyne.com' # use \\1 to refer to group(1)\n",
    "\n",
    "## re.sub(pat, replacement, str) -- returns new string with all replacements,\n",
    "## \\1 is group(1), \\2 group(2) in the replacement\n",
    "print(re.sub(r'([\\w\\.-]+)@([\\w\\.-]+)', replacement, str))\n",
    "## purple alice@yo-yo-dyne.com, blah monkey bob@yo-yo-dyne.com blah dishwasher"
   ]
  },
  {
   "cell_type": "code",
   "execution_count": 209,
   "id": "f1ad5fbb-041c-4a24-8c06-eacbb84ef46c",
   "metadata": {},
   "outputs": [
    {
     "name": "stdout",
     "output_type": "stream",
     "text": [
      "purple name@google.com, blah monkey name@abc.com blah dishwasher\n"
     ]
    }
   ],
   "source": [
    "str = 'purple alice@google.com, blah monkey bob@abc.com blah dishwasher'\n",
    "replacement = r'name@\\2' # use \\2 to refer to group(2)\n",
    "\n",
    "## re.sub(pat, replacement, str) -- returns new string with all replacements,\n",
    "## \\1 is group(1), \\2 group(2) in the replacement\n",
    "print(re.sub(r'([\\w\\.-]+)@([\\w\\.-]+)', replacement, str))\n",
    "## purple alice@yo-yo-dyne.com, blah monkey bob@yo-yo-dyne.com blah dishwasher"
   ]
  },
  {
   "cell_type": "code",
   "execution_count": null,
   "id": "847258af-7037-48b6-a661-2e77de883597",
   "metadata": {},
   "outputs": [],
   "source": []
  },
  {
   "cell_type": "code",
   "execution_count": 215,
   "id": "6ab3037f-748a-41c0-a9ab-8bce270d3512",
   "metadata": {},
   "outputs": [
    {
     "name": "stdout",
     "output_type": "stream",
     "text": [
      "None\n",
      "<re.Match object; span=(0, 5), match='tempo'>\n",
      "tempo\n",
      "0\n",
      "5\n"
     ]
    }
   ],
   "source": [
    "p = re.compile('[a-z]+')\n",
    "print(p.match(\"\"))\n",
    "print(p.match('tempo'))\n",
    "\n",
    "m = p.match('tempo')\n",
    "print(m.group())\n",
    "print(m.start())\n",
    "print(m.end())"
   ]
  },
  {
   "cell_type": "code",
   "execution_count": 218,
   "id": "27c513c6-ce0b-460a-a3a2-ac35e539a9b6",
   "metadata": {},
   "outputs": [
    {
     "name": "stdout",
     "output_type": "stream",
     "text": [
      "['12', '11', '10']\n",
      "(0, 2)\n",
      "(22, 24)\n",
      "(29, 31)\n"
     ]
    }
   ],
   "source": [
    "# Two pattern methods for returning all matches\n",
    "p = re.compile(r'\\d+')\n",
    "print(p.findall('12 drummers drumming, 11 pipers piping, 10 lords a-leaping'))\n",
    "\n",
    "\n",
    "iterator = p.finditer('12 drummers drumming, 11 ... 10 ...')\n",
    "iterator  \n",
    "\n",
    "for match in iterator:\n",
    "    print(match.span())"
   ]
  },
  {
   "cell_type": "code",
   "execution_count": 223,
   "id": "2bb8a0fe-ab53-465b-9ec2-5ffd52c3c482",
   "metadata": {},
   "outputs": [
    {
     "name": "stdout",
     "output_type": "stream",
     "text": [
      "(0, 5)\n",
      "None\n",
      "(0, 5)\n",
      "(2, 7)\n"
     ]
    }
   ],
   "source": [
    "# Match vs search \n",
    "#  match() function only checks if the RE matches at the beginning of the string while search() will scan forward through the string for a match\n",
    "print(re.match('super', 'superstition').span())\n",
    "\n",
    "print(re.match('super', 'insuperable'))\n",
    "\n",
    "\n",
    "\n",
    "#  search() will scan forward through the string, reporting the first match it finds.\n",
    "print(re.search('super', 'superstition').span())\n",
    "\n",
    "print(re.search('super', 'insuperable').span())"
   ]
  },
  {
   "cell_type": "code",
   "execution_count": null,
   "id": "248ac288-d484-4d6b-83ae-753bd408558e",
   "metadata": {},
   "outputs": [],
   "source": []
  }
 ],
 "metadata": {
  "kernelspec": {
   "display_name": "Python 3 (ipykernel)",
   "language": "python",
   "name": "python3"
  },
  "language_info": {
   "codemirror_mode": {
    "name": "ipython",
    "version": 3
   },
   "file_extension": ".py",
   "mimetype": "text/x-python",
   "name": "python",
   "nbconvert_exporter": "python",
   "pygments_lexer": "ipython3",
   "version": "3.9.12"
  }
 },
 "nbformat": 4,
 "nbformat_minor": 5
}
