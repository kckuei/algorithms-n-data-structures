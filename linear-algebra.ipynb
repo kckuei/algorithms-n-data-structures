{
 "cells": [
  {
   "cell_type": "markdown",
   "id": "87bed538-1ee4-4685-8c47-6b494fe63694",
   "metadata": {},
   "source": [
    "# Linear Algebra\n",
    "\n",
    "* https://numpy.org/doc/stable/reference/routines.linalg.html"
   ]
  },
  {
   "cell_type": "code",
   "execution_count": null,
   "id": "1eabff86-b3a7-46a5-b98d-0edf84b9dec1",
   "metadata": {},
   "outputs": [],
   "source": []
  },
  {
   "cell_type": "code",
   "execution_count": 2,
   "id": "8693da88-14b7-41f8-aeea-955ae896258c",
   "metadata": {},
   "outputs": [],
   "source": [
    "import numpy as np"
   ]
  },
  {
   "cell_type": "code",
   "execution_count": 19,
   "id": "f3951608-11e7-45d7-812f-d0db8099c5fe",
   "metadata": {},
   "outputs": [],
   "source": [
    "a = np.array([5, -4, 3])\n",
    "b = np.array([5, 4, 3])"
   ]
  },
  {
   "cell_type": "code",
   "execution_count": 20,
   "id": "b3eeb654-7b64-404e-9e65-08cfb2c80eb4",
   "metadata": {},
   "outputs": [
    {
     "data": {
      "text/plain": [
       "18"
      ]
     },
     "execution_count": 20,
     "metadata": {},
     "output_type": "execute_result"
    }
   ],
   "source": [
    "# Dot product\n",
    "np.dot(a, b)"
   ]
  },
  {
   "cell_type": "code",
   "execution_count": 21,
   "id": "4f0bf9fe-05c0-4de9-a875-51b47b35f1da",
   "metadata": {},
   "outputs": [
    {
     "data": {
      "text/plain": [
       "18"
      ]
     },
     "execution_count": 21,
     "metadata": {},
     "output_type": "execute_result"
    }
   ],
   "source": [
    "sum(a*b)"
   ]
  },
  {
   "cell_type": "code",
   "execution_count": 22,
   "id": "e20390c7-b00b-4302-9981-1d6088a6fab3",
   "metadata": {},
   "outputs": [
    {
     "data": {
      "text/plain": [
       "7.0710678118654755"
      ]
     },
     "execution_count": 22,
     "metadata": {},
     "output_type": "execute_result"
    }
   ],
   "source": [
    "# Norm/magnitude\n",
    "np.linalg.norm(a)"
   ]
  },
  {
   "cell_type": "code",
   "execution_count": 23,
   "id": "29055e88-bfdc-4062-8672-d5035e3bc1b8",
   "metadata": {},
   "outputs": [
    {
     "data": {
      "text/plain": [
       "array([5., 4., 3.])"
      ]
     },
     "execution_count": 23,
     "metadata": {},
     "output_type": "execute_result"
    }
   ],
   "source": [
    "np.sqrt(a**2)"
   ]
  },
  {
   "cell_type": "code",
   "execution_count": 24,
   "id": "0d6c79e6-7891-402f-87a6-d96187262ef8",
   "metadata": {},
   "outputs": [
    {
     "data": {
      "text/plain": [
       "1.2025284333582567"
      ]
     },
     "execution_count": 24,
     "metadata": {},
     "output_type": "execute_result"
    }
   ],
   "source": [
    "# Angle\n",
    "np.arccos( np.dot(a, b) / (np.linalg.norm(a)*np.linalg.norm(b)) )"
   ]
  },
  {
   "cell_type": "code",
   "execution_count": 33,
   "id": "01a2303d-ba8b-4aa2-8d33-cfa883c11940",
   "metadata": {},
   "outputs": [
    {
     "data": {
      "text/plain": [
       "array([1.8 , 1.44, 1.08])"
      ]
     },
     "execution_count": 33,
     "metadata": {},
     "output_type": "execute_result"
    }
   ],
   "source": [
    "# Projection of a onto b\n",
    "\n",
    "# magnitude of projection\n",
    "c = np.dot(a, b)/np.linalg.norm(a)\n",
    "\n",
    "# unit vector in direction of b\n",
    "u = b/np.linalg.norm(b)\n",
    "\n",
    "# projection vector\n",
    "c*u"
   ]
  },
  {
   "cell_type": "code",
   "execution_count": 39,
   "id": "f7381651-9bd5-4be9-9bff-838e92f59c5c",
   "metadata": {},
   "outputs": [],
   "source": [
    "A = np.array([[1, 2, 3],\n",
    "             [4, 5, 6],\n",
    "             [1, 2, 1]])"
   ]
  },
  {
   "cell_type": "code",
   "execution_count": 40,
   "id": "554e6415-6396-4267-88ae-87832c6b091b",
   "metadata": {},
   "outputs": [
    {
     "data": {
      "text/plain": [
       "6.0"
      ]
     },
     "execution_count": 40,
     "metadata": {},
     "output_type": "execute_result"
    }
   ],
   "source": [
    "np.linalg.det(A)"
   ]
  },
  {
   "cell_type": "code",
   "execution_count": 43,
   "id": "7be39235-e707-411f-b870-ed3ec36f648f",
   "metadata": {},
   "outputs": [
    {
     "data": {
      "text/plain": [
       "True"
      ]
     },
     "execution_count": 43,
     "metadata": {},
     "output_type": "execute_result"
    }
   ],
   "source": [
    "np.linalg.det(A.T) == np.linalg.det(A)"
   ]
  },
  {
   "cell_type": "code",
   "execution_count": 60,
   "id": "c548bb5a-4337-4f16-b7cf-405790685a8a",
   "metadata": {},
   "outputs": [
    {
     "data": {
      "text/plain": [
       "array([[-8, -4, -6]])"
      ]
     },
     "execution_count": 60,
     "metadata": {},
     "output_type": "execute_result"
    }
   ],
   "source": [
    "# Matrix multiplication\n",
    "# 1x3 x 3x3 = 1x3\n",
    "np.matmul(a.reshape(1,3), A)"
   ]
  },
  {
   "cell_type": "code",
   "execution_count": 61,
   "id": "b44b5589-ce29-4f7a-a4ec-495c6e6622aa",
   "metadata": {},
   "outputs": [
    {
     "ename": "ValueError",
     "evalue": "matmul: Input operand 1 has a mismatch in its core dimension 0, with gufunc signature (n?,k),(k,m?)->(n?,m?) (size 1 is different from 3)",
     "output_type": "error",
     "traceback": [
      "\u001b[0;31m---------------------------------------------------------------------------\u001b[0m",
      "\u001b[0;31mValueError\u001b[0m                                Traceback (most recent call last)",
      "\u001b[0;32m/tmp/ipykernel_567621/877399343.py\u001b[0m in \u001b[0;36m<module>\u001b[0;34m\u001b[0m\n\u001b[1;32m      1\u001b[0m \u001b[0;31m# Interesting, seems to implicitly cast a to 3x1\u001b[0m\u001b[0;34m\u001b[0m\u001b[0;34m\u001b[0m\u001b[0;34m\u001b[0m\u001b[0m\n\u001b[0;32m----> 2\u001b[0;31m \u001b[0mnp\u001b[0m\u001b[0;34m.\u001b[0m\u001b[0mmatmul\u001b[0m\u001b[0;34m(\u001b[0m\u001b[0mA\u001b[0m\u001b[0;34m,\u001b[0m \u001b[0ma\u001b[0m\u001b[0;34m.\u001b[0m\u001b[0mreshape\u001b[0m\u001b[0;34m(\u001b[0m\u001b[0;36m1\u001b[0m\u001b[0;34m,\u001b[0m\u001b[0;36m3\u001b[0m\u001b[0;34m)\u001b[0m\u001b[0;34m)\u001b[0m\u001b[0;34m\u001b[0m\u001b[0;34m\u001b[0m\u001b[0m\n\u001b[0m",
      "\u001b[0;31mValueError\u001b[0m: matmul: Input operand 1 has a mismatch in its core dimension 0, with gufunc signature (n?,k),(k,m?)->(n?,m?) (size 1 is different from 3)"
     ]
    }
   ],
   "source": [
    "# Matrix multiplication - error!\n",
    "# 3x3 x 1x3 NG!\n",
    "np.matmul(A, a.reshape(1,3))"
   ]
  },
  {
   "cell_type": "code",
   "execution_count": 62,
   "id": "bf122441-5584-4753-af4b-670c0b77f0ee",
   "metadata": {},
   "outputs": [
    {
     "data": {
      "text/plain": [
       "array([[ 6],\n",
       "       [18],\n",
       "       [ 0]])"
      ]
     },
     "execution_count": 62,
     "metadata": {},
     "output_type": "execute_result"
    }
   ],
   "source": [
    "# Matrix multiplication - error!\n",
    "# 3x3 x 3x1 NG! = 3x1\n",
    "np.matmul(A, a.reshape(3,1))"
   ]
  },
  {
   "cell_type": "code",
   "execution_count": 70,
   "id": "68b19ba8-8267-4e13-b60c-54c9acdd811c",
   "metadata": {},
   "outputs": [
    {
     "data": {
      "text/plain": [
       "18"
      ]
     },
     "execution_count": 70,
     "metadata": {},
     "output_type": "execute_result"
    }
   ],
   "source": [
    "# Inner product of two arrays\n",
    "np.inner(a, b)"
   ]
  },
  {
   "cell_type": "code",
   "execution_count": 71,
   "id": "9d43c8d9-3b0a-45b9-91e7-1805d13b493e",
   "metadata": {},
   "outputs": [
    {
     "data": {
      "text/plain": [
       "array([[14, 32,  8],\n",
       "       [32, 77, 20],\n",
       "       [ 8, 20,  6]])"
      ]
     },
     "execution_count": 71,
     "metadata": {},
     "output_type": "execute_result"
    }
   ],
   "source": [
    "np.inner(A, A)"
   ]
  },
  {
   "cell_type": "code",
   "execution_count": 74,
   "id": "fa8f97e3-7cf5-4af1-a33c-c7fc38b108b2",
   "metadata": {},
   "outputs": [
    {
     "data": {
      "text/plain": [
       "array([[-4.66666667],\n",
       "       [ 3.33333333],\n",
       "       [ 1.        ]])"
      ]
     },
     "execution_count": 74,
     "metadata": {},
     "output_type": "execute_result"
    }
   ],
   "source": [
    "# Inverse\n",
    "# Ax = b\n",
    "# -> x = inv(A)*b\n",
    "np.matmul(np.linalg.inv(A), b.reshape(3,1))"
   ]
  },
  {
   "cell_type": "code",
   "execution_count": 83,
   "id": "ac4cf6e9-838a-4a8d-ae5b-bfcc4d47b366",
   "metadata": {},
   "outputs": [
    {
     "name": "stdout",
     "output_type": "stream",
     "text": [
      "[[-0.37482474 -0.6131295  -0.69539819]\n",
      " [-0.89713876  0.05074266  0.43882482]\n",
      " [-0.23377009  0.78835107 -0.56908184]]\n",
      "[9.77655689 1.03219099 0.5945731 ]\n"
     ]
    }
   ],
   "source": [
    "# SVD - assume A is the covariance matrix (variance on diaganols)\n",
    "\n",
    "# Perform a singular value decomposition\n",
    "S, V, _ = np.linalg.svd(A)\n",
    "\n",
    "# Eigenvectors (vertical; principal components)\n",
    "print(S)\n",
    "# Eigenvalues (magnitude of variance in principal components explained/captured)\n",
    "print(V)"
   ]
  },
  {
   "cell_type": "code",
   "execution_count": 95,
   "id": "8860ad80-886c-4b59-b26e-23abf98690eb",
   "metadata": {},
   "outputs": [
    {
     "data": {
      "text/plain": [
       "array([[-3,  2,  5],\n",
       "       [ 6, -4, -9]])"
      ]
     },
     "execution_count": 95,
     "metadata": {},
     "output_type": "execute_result"
    }
   ],
   "source": [
    "A = np.array([1, -1, 2, 0, 3, -4]).reshape((2,3))\n",
    "B = np.array([-1, 0, 0, 2, 0, 1, 0, 1, 3]).reshape((3,3))\n",
    "\n",
    "np.matmul(A, B)"
   ]
  },
  {
   "cell_type": "code",
   "execution_count": 117,
   "id": "b95455e3-9a1c-40a2-a1db-3b0ccecc538b",
   "metadata": {},
   "outputs": [
    {
     "name": "stdout",
     "output_type": "stream",
     "text": [
      "2\n",
      "True\n"
     ]
    }
   ],
   "source": [
    "# u and v 1D arrays, then inner = dot product\n",
    "u = np.array([1, 3])\n",
    "v = np.array([-1, 1])\n",
    "\n",
    "print(np.dot(u.T,v))\n",
    "print(np.inner(u, v) == np.dot(u.T, v))"
   ]
  },
  {
   "cell_type": "code",
   "execution_count": 131,
   "id": "32381ed5-0ede-403b-934d-823e46d3c53f",
   "metadata": {},
   "outputs": [
    {
     "name": "stdout",
     "output_type": "stream",
     "text": [
      "[[-1  1]\n",
      " [-3  3]]\n"
     ]
    }
   ],
   "source": [
    "# outer or cross product\n",
    "# Given two vectors, a = [a0, a1, ..., aM] and b = [b0, b1, ..., bN], computes: \n",
    "    # [[a0*b0  a0*b1 ... a0*bN ]\n",
    "    #  [a1*b0    .\n",
    "    #  [ ...          .\n",
    "    #  [aM*b0            aM*bN ]]\n",
    "print(np.outer(u,v))"
   ]
  },
  {
   "cell_type": "code",
   "execution_count": 133,
   "id": "b5f1a9e9-5338-4e2e-a633-50101b4aca8c",
   "metadata": {},
   "outputs": [
    {
     "data": {
      "text/plain": [
       "array([[6.],\n",
       "       [3.]])"
      ]
     },
     "execution_count": 133,
     "metadata": {},
     "output_type": "execute_result"
    }
   ],
   "source": [
    "np.matmul(np.array([3, 0, 1/2, 2]).reshape((2,2)), np.array([2,1]).reshape((2,1)))"
   ]
  },
  {
   "cell_type": "code",
   "execution_count": 135,
   "id": "42b95e44-ef0d-440b-8439-5424a14adbb7",
   "metadata": {},
   "outputs": [
    {
     "data": {
      "text/plain": [
       "6.0"
      ]
     },
     "execution_count": 135,
     "metadata": {},
     "output_type": "execute_result"
    }
   ],
   "source": [
    "np.linalg.det(np.array([3, 0, 1/2, 2]).reshape((2,2)))\n",
    "\n",
    "# The determinant of a square matrix can be related to the area or volume of a region\n",
    "# it reflects how the linear transformation associated with the matrix can scale or reflect objects\n",
    "# E.g. 2x2 matrix with determinant 1 preservecs the area of a shape it acts on\n",
    "#      2x2 matrix with determinant 2 doubles the ara it acts on\n",
    "#      Negative determinant reverseses the orietnation of the shape, e.g. from left to right\n",
    "\n",
    "# If A is a square nxn matrix: the following are equivalent...\n",
    "# invertible\n",
    "# deter(A) != 0\n",
    "# columns are linearly independent\n",
    "# columsn of A span R^n\n",
    "# columsn of A are a basis in R^n\n",
    "# rows of A span R^n\n",
    "# rows of A are a basis in R^n"
   ]
  },
  {
   "cell_type": "code",
   "execution_count": 7,
   "id": "bf870a61-b209-46c4-b127-5d8fe9ac412c",
   "metadata": {},
   "outputs": [
    {
     "name": "stdout",
     "output_type": "stream",
     "text": [
      "[[-0.96059588 -0.27794882]\n",
      " [-0.27794882  0.96059588]]\n",
      "[3.0714859  1.95345191]\n",
      "5.999999999999998\n"
     ]
    }
   ],
   "source": [
    "eigenvectors, eigenvalues, _ = np.linalg.svd(np.array([3, 0, 1/2, 2]).reshape((2,2)))\n",
    "\n",
    "print(eigenvectors)\n",
    "print(eigenvalues)\n",
    "\n",
    "print(np.prod(eigenvalues)) # The product of eigenvectors should equal the determinant"
   ]
  },
  {
   "cell_type": "code",
   "execution_count": 140,
   "id": "a51d5ba2-1c8d-4db5-90da-3181f69cdf36",
   "metadata": {},
   "outputs": [
    {
     "data": {
      "text/plain": [
       "array([[0.16151535],\n",
       "       [0.8197523 ],\n",
       "       [0.61780776],\n",
       "       [0.95682813],\n",
       "       [0.02770925]])"
      ]
     },
     "execution_count": 140,
     "metadata": {},
     "output_type": "execute_result"
    }
   ],
   "source": [
    "np.random.rand(5,1)"
   ]
  },
  {
   "cell_type": "code",
   "execution_count": null,
   "id": "57e1a13e-ed46-4f80-9039-5e886943d059",
   "metadata": {},
   "outputs": [],
   "source": []
  }
 ],
 "metadata": {
  "kernelspec": {
   "display_name": "Python 3 (ipykernel)",
   "language": "python",
   "name": "python3"
  },
  "language_info": {
   "codemirror_mode": {
    "name": "ipython",
    "version": 3
   },
   "file_extension": ".py",
   "mimetype": "text/x-python",
   "name": "python",
   "nbconvert_exporter": "python",
   "pygments_lexer": "ipython3",
   "version": "3.9.12"
  }
 },
 "nbformat": 4,
 "nbformat_minor": 5
}
